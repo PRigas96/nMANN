{
 "cells": [
  {
   "attachments": {},
   "cell_type": "markdown",
   "metadata": {},
   "source": [
    "## Here is panos code\n",
    "We need to create 3 tests with brute force search(O(n))\n",
    "1) with Linf metric\n",
    "2) with Linf + Clustering\n",
    "3) with Linf complete\n",
    "4) with L2 metric"
   ]
  },
  {
   "cell_type": "code",
   "execution_count": null,
   "metadata": {},
   "outputs": [],
   "source": []
  },
  {
   "cell_type": "code",
   "execution_count": 1,
   "metadata": {},
   "outputs": [],
   "source": [
    "import numpy as np\n",
    "import random\n",
    "import matplotlib.pyplot as plt\n",
    "import math\n",
    "\n",
    "from utils import metrics as mt\n",
    "from utils import geometry as geo\n",
    "from utils import data as dt"
   ]
  },
  {
   "cell_type": "code",
   "execution_count": 2,
   "metadata": {},
   "outputs": [],
   "source": [
    "# load data\n",
    "data = np.load('./data_v2/1000sq/1000sqv2.npy')\n",
    "q_points = np.load('./data_v2/1000sq/1000qpv2.npy')"
   ]
  },
  {
   "cell_type": "code",
   "execution_count": 3,
   "metadata": {},
   "outputs": [
    {
     "name": "stdout",
     "output_type": "stream",
     "text": [
      "Data shape:  (1000, 4)\n",
      "Querry points shape:  10000\n"
     ]
    }
   ],
   "source": [
    "print(\"Data shape: \", data.shape)\n",
    "print(\"Querry points shape: \", q_points.__len__())"
   ]
  },
  {
   "cell_type": "code",
   "execution_count": null,
   "metadata": {},
   "outputs": [],
   "source": [
    "from utils import visualization as vis\n",
    "min_ = 0\n",
    "#vis.plot_data(data, 20, [- max_ - max(size0), max_ + max(size0), -max_ - max(size0) , max_ + max(size0)])\n",
    "vis.plot_data(data,40,[0-4,300+4,0-4,300+4])"
   ]
  },
  {
   "cell_type": "code",
   "execution_count": 7,
   "metadata": {},
   "outputs": [],
   "source": [
    "\n",
    "from  sklearn.neighbors._kde import KernelDensity\n",
    "from scipy.signal import argrelextrema\n",
    "def GetBandwidth(data):\n",
    "    # get bandwidth for kernel density estimation\n",
    "    # bw must be limited by:\n",
    "    # 1. it minimizes the distance between the maximum and mean of a cluster\n",
    "    # 2. the distance between two cluster means is maximazied\n",
    "    # or be chosen manually\n",
    "    # or be chosen by cross validation\n",
    "    # or so that the cluster's sizes are not too different from each other\n",
    "    bandwidth = 0\n",
    "    \n",
    "  \n",
    "    \n",
    "    return bandwidth\n",
    "def rclustering(dataset, bandwidth_method = 'opt'): \n",
    "    dataset = np.array(dataset)\n",
    "    data = dataset[:,-1]\n",
    "    if bandwidth_method == 'opt':\n",
    "        bandwidth = GetBandwidth(data)\n",
    "    else:\n",
    "        bandwidth = float(bandwidth_method)\n",
    "    #print(\"bandwidth: \", bandwidth)\n",
    "    kde = KernelDensity(kernel='gaussian', bandwidth=bandwidth).fit(data.reshape(-1, 1))\n",
    "    s = np.linspace(0,90)\n",
    "    e = kde.score_samples(s.reshape(-1,1))\n",
    "    plt.plot(s, e)\n",
    "    mi, ma = argrelextrema(e, np.less)[0], argrelextrema(e, np.greater)[0]\n",
    "    # print them\n",
    "    #print(\"minima: \", s[mi])\n",
    "    #print(\"maxima: \", s[ma])\n",
    "    # create a np.array of the clusters\n",
    "    # maximum length is one more than minimum\n",
    "    clusters = []\n",
    "    for i in range(mi.__len__()):\n",
    "        temp = []\n",
    "        if i == 0:\n",
    "            for j in range(data.__len__()):\n",
    "                if data[j] <= s[mi[i]]:\n",
    "                    temp.append(dataset[j])\n",
    "            clusters.append(np.array(temp))\n",
    "            continue\n",
    "        if i > 0 and i <= mi.__len__()-1:\n",
    "            for j in range(data.__len__()):\n",
    "                if data[j] <= s[mi[i]] and data[j] > s[mi[i-1]]:\n",
    "                    temp.append(dataset[j])\n",
    "            clusters.append(np.array(temp))\n",
    "            if i == mi.__len__()-1:\n",
    "                temp = []\n",
    "                for j in range(data.__len__()):\n",
    "                    if data[j] > s[mi[i]]:\n",
    "                        temp.append(dataset[j])\n",
    "                clusters.append(np.array(temp))\n",
    "            continue\n",
    "    print(\"number of clusters: \", clusters.__len__())\n",
    "    return np.array(clusters), s[mi], s[ma]\n",
    "                \n",
    "# compress data and calculate error for each cluster\n",
    "def compress_data(clusters, min, max):\n",
    "    print(\"No of clusters: \", clusters.__len__())\n",
    "    print(\"No of min and max points: \", min.__len__(), max.__len__())\n",
    "    error = [0 for i in range (clusters.__len__())]\n",
    "    \n",
    "    for i in range(clusters.__len__()):\n",
    "        maxima = np.max(clusters[i][:,-1])\n",
    "        print(\"maxima: \", maxima)\n",
    "        mean = np.mean(clusters[i][:,-1])\n",
    "        print(\"mean: \", mean)\n",
    "        # calculate error\n",
    "        for j in range(clusters[i].__len__()):\n",
    "            error[i] += (maxima - clusters[i][j][-1])\n",
    "            clusters[i][j][-1] = mean \n",
    "    return clusters , error\n",
    "\n",
    "# create a cost function for w_error and bandwidth, so that u choose bandwidth to minimize w_error\n",
    "# w_error must take into  account the number of clusters, we dont want to have too many clusters or too few\n",
    "def cost_function(bandwidth):\n",
    "    clusters, min, max = rclustering(data, bandwidth_method = bandwidth)\n",
    "    new_data , error = compress_data(clusters, min, max)\n",
    "    print(\"error: \", error)\n",
    "    w_error = 0\n",
    "    n_error = []\n",
    "    for i in range(error.__len__()):\n",
    "        w_error += np.abs(error[i])\n",
    "        n_error.append( error[i] / clusters[i].__len__())\n",
    "    return w_error,n_error, error, clusters.__len__()"
   ]
  },
  {
   "cell_type": "code",
   "execution_count": 10,
   "metadata": {},
   "outputs": [
    {
     "name": "stdout",
     "output_type": "stream",
     "text": [
      "number of clusters:  4\n",
      "No of clusters:  4\n",
      "No of min and max points:  3 4\n",
      "maxima:  23.7366950109371\n",
      "mean:  12.805427017927412\n",
      "maxima:  44.04397564238202\n",
      "mean:  33.55669832381753\n",
      "maxima:  65.78166143881948\n",
      "mean:  53.777461054151956\n",
      "maxima:  89.90218158299723\n",
      "mean:  76.77065411220956\n"
     ]
    },
    {
     "name": "stderr",
     "output_type": "stream",
     "text": [
      "/tmp/ipykernel_4865/2454451676.py:56: VisibleDeprecationWarning: Creating an ndarray from ragged nested sequences (which is a list-or-tuple of lists-or-tuples-or ndarrays with different lengths or shapes) is deprecated. If you meant to do this, you must specify 'dtype=object' when creating the ndarray.\n",
      "  return np.array(clusters), s[mi], s[ma]\n"
     ]
    },
    {
     "data": {
      "image/png": "[encoded data removed]",
      "text/plain": [
       "<Figure size 640x480 with 1 Axes>"
      ]
     },
     "metadata": {},
     "output_type": "display_data"
    }
   ],
   "source": [
    "cluster,min_, max_ = rclustering(data, bandwidth_method = 3.3)\n",
    "clusters, error = compress_data(cluster, min_, max_)"
   ]
  },
  {
   "cell_type": "code",
   "execution_count": null,
   "metadata": {},
   "outputs": [],
   "source": [
    "# get the first 10 points of the data\n",
    "q_points = q_points[:1]\n",
    "q_points.__len__()"
   ]
  },
  {
   "cell_type": "code",
   "execution_count": null,
   "metadata": {},
   "outputs": [],
   "source": [
    "q_points[0]"
   ]
  },
  {
   "cell_type": "code",
   "execution_count": null,
   "metadata": {},
   "outputs": [],
   "source": [
    "data[358]"
   ]
  },
  {
   "cell_type": "code",
   "execution_count": 13,
   "metadata": {},
   "outputs": [
    {
     "data": {
      "text/plain": [
       "array([ 46, 202])"
      ]
     },
     "execution_count": 13,
     "metadata": {},
     "output_type": "execute_result"
    }
   ],
   "source": [
    "q_points[0]"
   ]
  },
  {
   "cell_type": "code",
   "execution_count": 20,
   "metadata": {},
   "outputs": [
    {
     "data": {
      "text/plain": [
       "0.0"
      ]
     },
     "execution_count": 20,
     "metadata": {},
     "output_type": "execute_result"
    }
   ],
   "source": [
    "ids = 21\n",
    "n = 0\n",
    "d1 = mt.Linf(geo.create_square2(data[ids]),q_points[n])[0]\n",
    "d2 = mt.Linf_(geo.create_square2(data[ids]),q_points[n])\n",
    "d1-d2"
   ]
  },
  {
   "cell_type": "code",
   "execution_count": null,
   "metadata": {},
   "outputs": [],
   "source": [
    "# visualize points in space\n",
    "# plot 2d points of querry points\n",
    "plt.plot(q_points[:,0],q_points[:,1], 'ro')"
   ]
  },
  {
   "cell_type": "code",
   "execution_count": null,
   "metadata": {},
   "outputs": [],
   "source": [
    "data[230]"
   ]
  },
  {
   "cell_type": "code",
   "execution_count": null,
   "metadata": {},
   "outputs": [],
   "source": [
    "geo.create_square2(data[0])"
   ]
  },
  {
   "cell_type": "code",
   "execution_count": null,
   "metadata": {},
   "outputs": [],
   "source": []
  },
  {
   "cell_type": "code",
   "execution_count": null,
   "metadata": {},
   "outputs": [],
   "source": [
    "# plot square\n",
    "square = np.array([np.subtract(square_point, np.array([0,0])) for square_point in b])\n",
    "#square = np.subtract(geo.create_square2(data[0]),data[0])\n",
    "print(square)\n",
    "plt.plot(square[:,0],square[:,1], 'ro')\n",
    "#plt.plot(geo.create_square2(data[0])[:,0],geo.create_square2(data[0])[:,1], 'ro')"
   ]
  },
  {
   "cell_type": "code",
   "execution_count": null,
   "metadata": {},
   "outputs": [],
   "source": [
    "a,b,c = Linf(geo.create_square2(data[0]),np.array([108,210]))\n",
    "print(\"a: \", a)\n",
    "print(\"b: \", b)\n",
    "print(\"c: \", c)"
   ]
  },
  {
   "cell_type": "code",
   "execution_count": null,
   "metadata": {},
   "outputs": [],
   "source": [
    "mt.Linf_(geo.create_square2(data[0]),np.array([108,210]))"
   ]
  },
  {
   "cell_type": "code",
   "execution_count": 41,
   "metadata": {},
   "outputs": [],
   "source": [
    "q_points = np.load('./data_v2/1000sq/1000qpv2.npy')\n",
    "nop = 10000\n",
    "beg = 0\n",
    "q_points = q_points[beg:beg+nop]"
   ]
  },
  {
   "cell_type": "code",
   "execution_count": 42,
   "metadata": {},
   "outputs": [
    {
     "name": "stdout",
     "output_type": "stream",
     "text": [
      "Acc and clustering is: 96.53 %\n",
      "Acc Simple is: 90.72 %\n"
     ]
    }
   ],
   "source": [
    "acc1 = 0\n",
    "acc = 0\n",
    "for i in range(q_points.__len__()):\n",
    "    #print(\"======================================\")\n",
    "    #print(\"New querry point:\")\n",
    "    \n",
    "    # inside a point\n",
    "    # bf with 100%\n",
    "\n",
    "    min_dist_100 = np.inf\n",
    "    min_id_100 = [-1]\n",
    "    dista = []\n",
    "    for j in range(data.__len__()):\n",
    "        dist = mt.Linf(geo.create_square2(data[j]), q_points[i])[0] # get 100% Linf dist\n",
    "        dista.append(dist)\n",
    "\n",
    "        if dist < min_dist_100:\n",
    "            min_dist_100 = dist\n",
    "            min_id_100 = [-1]\n",
    "            \n",
    "            min_id_100[0] = j\n",
    "            continue\n",
    "        if dist  == min_dist_100:\n",
    "            min_id_100.append(j)\n",
    "    #print(\"min_id_100: \", min_id_100)\n",
    "    # bf with simple Linf without clustering\n",
    "    min_dist_simple = np.inf\n",
    "    min_id_simple = [-1] \n",
    "    distb = []\n",
    "    for j in range(data.__len__()):\n",
    "        dist = mt.Linf_(geo.create_square2(data[j]), q_points[i])\n",
    "        distb.append(dist)\n",
    "        if dist < min_dist_simple:\n",
    "            min_dist_simple = dist\n",
    "            min_id_simple = [-1]\n",
    "            min_id_simple[0] = j\n",
    "            continue\n",
    "        if dist == min_dist_simple:\n",
    "            min_id_simple.append(j)\n",
    "    #print(\"min_id_simple: \", min_id_simple)\n",
    "    #print(\"min_id_100: \", min_id_100)\n",
    "    if min_id_simple[0] == min_id_100[0]:\n",
    "        acc1 += 1\n",
    "    #print(\"min_id_simple: \", min_id_simple)\n",
    "\n",
    "    \n",
    "    # bf with simple Linf and clustering\n",
    "    min_dist_m = [np.inf for _ in range(clusters.__len__())]\n",
    "    min_id_m = [[-1] for _ in range(clusters.__len__())]\n",
    "    for c in range(clusters.__len__()):\n",
    "        for j in range(clusters[c].__len__()):\n",
    "            dist = mt.Linf_(geo.create_square2(clusters[c][j]),q_points[i])\n",
    "            if dist < min_dist_m[c]:\n",
    "                min_dist_m[c] = dist \n",
    "                min_id_m[c] = [-1]\n",
    "                min_id_m[c][0] = j\n",
    "                continue\n",
    "            if dist == min_dist_m[c]:\n",
    "                # insert to cluster in last position\n",
    "                min_id_m[c].append(j)\n",
    "                #min_id_m[c].insert() # TODO\n",
    "    \n",
    "    #print(\"min_id_m: \", min_id_m)\n",
    "\n",
    "    for c in range(clusters.__len__()):\n",
    "        for i in range(min_id_m[c].__len__()):\n",
    "            #print(\"Squares are : \", clusters[c][min_id_m[c][i]][0:2], data[min_id_100[0]][0:2])\n",
    "            if np.all(clusters[c][min_id_m[c][i]][0:2] == data[min_id_100[0]][0:2]):\n",
    "                #print(\"Squares are : \", clusters[c][min_id_m[c][i]][0:2], data[min_id_100[0]][0:2])\n",
    "                acc += 1\n",
    "                break\n",
    "    #min_dist_t = np.inf\n",
    "    #min_id_t = [-1]\n",
    "    #for id in min_id_m:\n",
    "    #    dist = mt.Linf(geo.create_square2(data[id]), q_points[i])[0]\n",
    "    #    if dist < min_dist_t:\n",
    "    #        min_dist_t = dist\n",
    "    #        min_id_t = [-1]\n",
    "    #        min_id_t[0] = id\n",
    "    #    if dist == min_dist_t:\n",
    "    #        min_id_t.append(id)\n",
    "\n",
    "####\n",
    "\n",
    "print(\"Acc and clustering is: {} %\".format(acc/nop*100))\n",
    "print(\"Acc Simple is: {} %\".format(acc1/nop*100))\n",
    "\n",
    "# print accuracy is acc %\n",
    "#print('Accuracy is: {}%'.format(acc/nop*100))"
   ]
  },
  {
   "cell_type": "code",
   "execution_count": 68,
   "metadata": {},
   "outputs": [
    {
     "name": "stdout",
     "output_type": "stream",
     "text": [
      "29.9459982103038\n",
      "77.31533273676793\n"
     ]
    }
   ],
   "source": [
    "print(mt.Linf_(geo.create_square2(clusters[1][min_id_m[2][0]]),q_points[0]))\n",
    "print(mt.Linf_(geo.create_square2(clusters[1][98]),q_points[0]))"
   ]
  },
  {
   "cell_type": "code",
   "execution_count": 66,
   "metadata": {},
   "outputs": [
    {
     "data": {
      "text/plain": [
       "array([ 48.        , 198.        ,   2.        ,  30.52704762])"
      ]
     },
     "execution_count": 66,
     "metadata": {},
     "output_type": "execute_result"
    }
   ],
   "source": [
    "clusters[1][61]"
   ]
  },
  {
   "cell_type": "code",
   "execution_count": 55,
   "metadata": {},
   "outputs": [
    {
     "data": {
      "text/plain": [
       "array([ 48.        , 198.        ,   2.        ,  31.09582615])"
      ]
     },
     "execution_count": 55,
     "metadata": {},
     "output_type": "execute_result"
    }
   ],
   "source": [
    "data[min_id_100[0]]"
   ]
  },
  {
   "cell_type": "code",
   "execution_count": 65,
   "metadata": {},
   "outputs": [
    {
     "name": "stdout",
     "output_type": "stream",
     "text": [
      "found\n",
      "61\n"
     ]
    }
   ],
   "source": [
    "for l in range(len(clusters[1])):\n",
    "    if np.all(clusters[1][l][0:2] == data[min_id_100[0]][0:2]):\n",
    "        print(\"found\")\n",
    "        print(l)"
   ]
  },
  {
   "cell_type": "code",
   "execution_count": null,
   "metadata": {},
   "outputs": [],
   "source": []
  },
  {
   "cell_type": "code",
   "execution_count": null,
   "metadata": {},
   "outputs": [],
   "source": [
    "print('Accuracy is: {}%'.format(acc))"
   ]
  },
  {
   "cell_type": "code",
   "execution_count": 29,
   "metadata": {},
   "outputs": [
    {
     "data": {
      "text/plain": [
       "16.666666666666668"
      ]
     },
     "execution_count": 29,
     "metadata": {},
     "output_type": "execute_result"
    }
   ],
   "source": [
    "# check if all elements in two list are the same\n",
    "100*10/60"
   ]
  },
  {
   "cell_type": "code",
   "execution_count": null,
   "metadata": {},
   "outputs": [],
   "source": [
    "dista == distb"
   ]
  },
  {
   "cell_type": "code",
   "execution_count": null,
   "metadata": {},
   "outputs": [],
   "source": [
    "min_id_m"
   ]
  },
  {
   "cell_type": "code",
   "execution_count": null,
   "metadata": {},
   "outputs": [],
   "source": [
    "print('We are the {} who say \"{}!\"'.format('knights', 'Ni'))"
   ]
  },
  {
   "cell_type": "code",
   "execution_count": null,
   "metadata": {},
   "outputs": [],
   "source": []
  }
 ],
 "metadata": {
  "kernelspec": {
   "display_name": "Python 3",
   "language": "python",
   "name": "python3"
  },
  "language_info": {
   "codemirror_mode": {
    "name": "ipython",
    "version": 3
   },
   "file_extension": ".py",
   "mimetype": "text/x-python",
   "name": "python",
   "nbconvert_exporter": "python",
   "pygments_lexer": "ipython3",
   "version": "3.10.6 (main, Nov 14 2022, 16:10:14) [GCC 11.3.0]"
  },
  "orig_nbformat": 4,
  "vscode": {
   "interpreter": {
    "hash": "916dbcbb3f70747c44a77c7bcd40155683ae19c65e1c03b4aa3499c5328201f1"
   }
  }
 },
 "nbformat": 4,
 "nbformat_minor": 2
}
