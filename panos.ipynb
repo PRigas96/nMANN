{
 "cells": [
  {
   "attachments": {},
   "cell_type": "markdown",
   "metadata": {},
   "source": [
    "## Here is panos code\n",
    "We need to create 3 tests with brute force search(O(n))\n",
    "1) with Linf metric\n",
    "2) with Linf + Clustering\n",
    "3) with Linf complete\n",
    "4) with L2 metric"
   ]
  },
  {
   "cell_type": "code",
   "execution_count": 3,
   "metadata": {},
   "outputs": [],
   "source": [
    "import numpy as np"
   ]
  },
  {
   "cell_type": "code",
   "execution_count": 13,
   "metadata": {},
   "outputs": [],
   "source": [
    "# define Linf() function for a square and a point\n",
    "def Linf(square, point):\n",
    "    # 1st put coords around point and transform\n",
    "    # in order to do the transform substract the point from each coord\n",
    "    square_new = np.array([np.subtract(square_point, point) for square_point in square])\n",
    "    # find if y = abs(x) intersects the square and if so add the point to the list so that the clockwise order is preserved\n",
    "    # find the intersection point\n",
    "    # find if y = abs(x) intersects the square\n",
    "    # for each edge of the square, check if y = abs(x) intersects the edge\n",
    "    for i in range(square.shape[0]):\n",
    "        sq_pt1 = square_new[i]\n",
    "        sq_pt2 = square_new[(i+1)%square.shape[0]]\n",
    "        # alpha \n",
    "        if not (sq_pt2[0] - sq_pt1[0] == 0):\n",
    "            a = (sq_pt2[1] - sq_pt1[1])/(sq_pt2[0] - sq_pt1[0])\n",
    "        else:\n",
    "            continue\n",
    "        # beta\n",
    "        b = sq_pt1[1] - a*sq_pt1[0]\n",
    "        # new point\n",
    "        if not (a == 1 or a == -1):\n",
    "            new_pts = np.array([[b/(a-1), b/(a-1)],[b/(a+1), -b/(a+1)]])\n",
    "        else:\n",
    "            continue\n",
    "        # check if new points lie inside the segment\n",
    "        # if so add to square_new\n",
    "        for new_pt in new_pts:\n",
    "            if (new_pt[0] >= min(sq_pt1[0], sq_pt2[0])) and (new_pt[0] <= max(sq_pt1[0], sq_pt2[0])) and \\\n",
    "                (new_pt[1] >= min(sq_pt1[1], sq_pt2[1])) and (new_pt[1] <= max(sq_pt1[1], sq_pt2[1])):\n",
    "                square_new = np.insert(square_new, i+1, new_pt, axis=0)\n",
    "    # get Linf from each point in square_new\n",
    "    min_dist = np.inf\n",
    "    for square_point in square_new:\n",
    "        dist = np.max(np.abs(square_point))\n",
    "        if dist < min_dist:\n",
    "            min_dist = dist\n",
    "    return min_dist\n"
   ]
  },
  {
   "cell_type": "code",
   "execution_count": null,
   "metadata": {},
   "outputs": [],
   "source": []
  },
  {
   "cell_type": "code",
   "execution_count": 17,
   "metadata": {},
   "outputs": [
    {
     "name": "stdout",
     "output_type": "stream",
     "text": [
      "Linf distance from square to point is:  2\n"
     ]
    }
   ],
   "source": [
    "# define a square with 4 points\n",
    "sq_pts = np.array([(0,0), (0,1), (1,1), (1,0)])\n",
    "# define Linf from a square and a point\n",
    "Linf_dist = Linf(sq_pts, [3,3])\n",
    "print(\"Linf distance from square to point is: \", Linf_dist)\n"
   ]
  },
  {
   "cell_type": "code",
   "execution_count": 4,
   "metadata": {},
   "outputs": [
    {
     "data": {
      "text/plain": [
       "array([0, 0, 0])"
      ]
     },
     "execution_count": 4,
     "metadata": {},
     "output_type": "execute_result"
    }
   ],
   "source": [
    "np.subtract([1,2,3], [1,2,3])"
   ]
  },
  {
   "cell_type": "code",
   "execution_count": null,
   "metadata": {},
   "outputs": [],
   "source": []
  }
 ],
 "metadata": {
  "kernelspec": {
   "display_name": "Python 3",
   "language": "python",
   "name": "python3"
  },
  "language_info": {
   "codemirror_mode": {
    "name": "ipython",
    "version": 3
   },
   "file_extension": ".py",
   "mimetype": "text/x-python",
   "name": "python",
   "nbconvert_exporter": "python",
   "pygments_lexer": "ipython3",
   "version": "3.10.6"
  },
  "orig_nbformat": 4,
  "vscode": {
   "interpreter": {
    "hash": "916dbcbb3f70747c44a77c7bcd40155683ae19c65e1c03b4aa3499c5328201f1"
   }
  }
 },
 "nbformat": 4,
 "nbformat_minor": 2
}
