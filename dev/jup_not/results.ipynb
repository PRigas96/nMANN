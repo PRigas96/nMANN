{
 "cells": [
  {
   "cell_type": "code",
   "execution_count": 1,
   "metadata": {},
   "outputs": [],
   "source": [
    "import matplotlib.pyplot as plt\n",
    "import numpy as np\n",
    "from scipy.interpolate import make_interp_spline, BSpline\n"
   ]
  },
  {
   "cell_type": "code",
   "execution_count": 3,
   "metadata": {},
   "outputs": [
    {
     "data": {
      "image/png": "[encoded data removed]",
      "text/plain": [
       "<Figure size 432x288 with 1 Axes>"
      ]
     },
     "metadata": {
      "needs_background": "light"
     },
     "output_type": "display_data"
    }
   ],
   "source": [
    "# plot a step function\n",
    "plt.step(x1,x2, where='post')\n",
    "# name x and y axis\n",
    "plt.xlabel('No. of Clusters Cost weight') \n",
    "plt.ylabel('Bandwidth')\n",
    "# show the plot\n",
    "plt.show()\n",
    "    "
   ]
  },
  {
   "cell_type": "markdown",
   "metadata": {},
   "source": [
    "# RTREE"
   ]
  },
  {
   "cell_type": "code",
   "execution_count": 2,
   "metadata": {},
   "outputs": [],
   "source": [
    "# 1k squares\n",
    "x1 = [1, 1.1, 1.4, 2.1, 2.4, 2.5, 2.6, 2.9, 3.3]\n",
    "x2 = [2.2,\t2.5,\t2.55,\t2.65,\t3,\t3.1,\t3.4,\t3.65,\t4.95]\n",
    "x3 = [8,\t7,\t6,\t5,\t5,\t5,\t5,\t4,\t1]\n",
    "time = [9.11,\t8.27,\t7.46,\t5.65\t,4.8 ,\t5.21\t,5.26\t,4.42\t,1.17]\n",
    "acc = [98.42,\t97.7,\t96.89,\t96.77,\t96.65,\t96.54,\t96.5,\t96.04,\t38.07]\n",
    "#acc = [x/100 for x in acc]"
   ]
  },
  {
   "cell_type": "code",
   "execution_count": null,
   "metadata": {},
   "outputs": [],
   "source": [
    "# 10 k squares\n",
    "x1 = [1, 1.2,1.9, 2.9, 4]\n",
    "x2 = [1.4, 1.75, 1.8, 2, 4.4]\n",
    "x3 = [8,7,5,4,1]\n",
    "time = [9.96, 9.51, 7.99, 6.26, 1.41]\n",
    "acc = [95.1, 94.53, 92.56 , 91.32, 39.16]\n"
   ]
  },
  {
   "cell_type": "markdown",
   "metadata": {},
   "source": [
    "# QTREES"
   ]
  },
  {
   "cell_type": "code",
   "execution_count": null,
   "metadata": {},
   "outputs": [],
   "source": [
    "x1 = [1, 1.1, 1.4, 2.1, 2.4, 2.5, 2.6, 2.9, 3.3]\n",
    "x2 = [2.2,\t2.5,\t2.55,\t2.65,\t3,\t3.1,\t3.4,\t3.65,\t4.95]\n",
    "x3 = [8,\t7,\t6,\t5,\t5,\t5,\t5,\t4,\t1]\n",
    "timeq = [18.7,\t18.5,\t15.49,\t14.3,\t13.32,\t13.88,\t14.12,\t11.84,\t2.96]\n",
    "accq = [93.3,\t92.89,\t88.7,\t89.75,\t89.97,\t89.87,\t89.53,\t87.68,\t36.83]\n",
    "\n"
   ]
  },
  {
   "cell_type": "code",
   "execution_count": null,
   "metadata": {},
   "outputs": [],
   "source": [
    "# 10 k squares\n",
    "x1 = [1, 1.2,1.9, 2.9, 4]\n",
    "x2 = [1.4, 1.75, 1.8, 2, 4.4]\n",
    "x3 = [8,7,5,4,1]\n",
    "timeq =[23.58,\t22.03,\t15.92,\t13.38,\t5.12]\n",
    "accq = [86.43,\t79.75,\t81.53,\t79.85,\t35.84]\n",
    "\n"
   ]
  },
  {
   "cell_type": "code",
   "execution_count": null,
   "metadata": {},
   "outputs": [],
   "source": [
    "x1 = np.array(x1)[0:-1]\n",
    "x2 = np.array(x2)[0:-1]\n",
    "x3 = np.array(x3)[0:-1]\n",
    "time = np.array(time)[0:-1]\n",
    "timeq = np.array(timeq)[0:-1]\n",
    "acc = np.array(acc)[0:-1]\n",
    "accq = np.array(accq)[0:-1]\n",
    "\n",
    "k0 = 1\n",
    "no = 1000\n",
    "x2_ = np.linspace(x2.min(), x2.max(), no)\n",
    "x3 = make_interp_spline(x2, x3,k=k0)(x2_)\n",
    "time = make_interp_spline(x2, time,k=k0)(x2_)\n",
    "timeq = make_interp_spline(x2, timeq,k=k0)(x2_)\n",
    "acc = make_interp_spline(x2, acc,k=k0)(x2_)\n",
    "accq = make_interp_spline(x2, accq,k=k0)(x2_)"
   ]
  },
  {
   "cell_type": "code",
   "execution_count": null,
   "metadata": {},
   "outputs": [],
   "source": [
    "\n",
    "# plot 2 y axis\n",
    "fig, ax1 = plt.subplots()\n",
    "\n",
    "# one for time and wcl\n",
    "# one for acc\n",
    "color1 = 'tab:red'\n",
    "color2 = 'tab:green'\n",
    "color3 = 'tab:olive'\n",
    "ax1.set_xlabel('bandwidth')\n",
    "# set y label with 2 colors\n",
    "ax1.set_ylabel('Number of Clusters/Time in sec')\n",
    "\n",
    "# put cirlces in the plot\n",
    "# put grid on the plot\n",
    "\n",
    "ax1.plot(x2_, x3, color=color1)\n",
    "ax1.plot(x2_, time, color=color2)\n",
    "ax1.plot(x2_, timeq, color=color3)\n",
    "ax1.tick_params(axis='y')\n",
    "\n",
    "ax2 = ax1.twinx()  # instantiate a second axes that shares the same x-axis\n",
    "\n",
    "#color4 = 'tab:blue'\n",
    "#color5 = 'tab:cyan'\n",
    "#ax2.set_ylabel('Accuracy')  # we already handled the x-label with ax1\n",
    "#ax2.plot(x2_, acc, color=color4)\n",
    "#ax2.plot(x2_, accq, color=color5)\n",
    "#ax2.tick_params(axis='y')\n",
    "\n",
    "fig.tight_layout()  # otherwise the right y-label is slightly clipped\n",
    "# legend\n",
    "ax1.legend(['Number of Clusters', 'RTree Time in sec','QTree Time in sec'], loc='upper right')\n",
    "#ax2.legend(['Accuracy RTree','Accuracy QTree'], loc='upper left')\n",
    "# create y limit\n",
    "ax1.set_ylim(0, 25)\n",
    "#ax2.set_ylim(0, 120)\n",
    "plt.show()\n",
    "\n"
   ]
  },
  {
   "cell_type": "code",
   "execution_count": null,
   "metadata": {},
   "outputs": [],
   "source": [
    "# plot 2 y axis one for time and one for number of clusters\n",
    "fig, ax1 = plt.subplots()\n",
    "# we have 2 times timeq and time\n",
    "\n",
    "color1 = 'tab:red'\n",
    "color2 = 'tab:green'\n",
    "color3 = 'tab:olive'\n",
    "ax1.set_xlabel('hn')\n",
    "# set y label with 2 colors\n",
    "ax1.set_ylabel('Time in sec')\n",
    "ax1.plot(x2, time, color=color1)\n",
    "ax1.plot(x2, timeq, color=color2)\n",
    "ax1.tick_params(axis='y')\n",
    "\n",
    "ax2 = ax1.twinx()  # instantiate a second axes that shares the same x-axis\n",
    "\n",
    "color4 = 'tab:blue'\n",
    "color5 = 'tab:cyan'\n",
    "ax2.set_ylabel('Number of Clusters')  # we already handled the x-label with ax1\n",
    "ax2.plot(x2, x3, color=color4)\n",
    "\n",
    "fig.tight_layout()  # otherwise the right y-label is slightly clipped\n",
    "# legend\n",
    "ax1.legend(['RTree Time in sec','QTree Time in sec'], loc='upper right')\n",
    "ax2.legend(['Number of Clusters'], loc='upper left')\n",
    "# create y limit\n",
    "ax1.set_ylim(0, 25)\n",
    "ax2.set_ylim(0, 25) # 25 is the max number of clusters\n",
    "plt.show()\n",
    "\n"
   ]
  },
  {
   "cell_type": "code",
   "execution_count": null,
   "metadata": {},
   "outputs": [],
   "source": [
    "import numpy as np\n",
    "import matplotlib.pyplot as plt\n",
    "\n",
    "plt.rcParams['text.usetex'] = True\n",
    "\n",
    "\n",
    "t = np.linspace(0.0, 1.0, 100)\n",
    "s = np.cos(4 * np.pi * t) + 2\n",
    "\n",
    "fig, ax = plt.subplots(figsize=(6, 4), tight_layout=True)\n",
    "ax.plot(t, s)\n",
    "\n",
    "ax.set_xlabel(r'\\textbf{time (s)}')\n",
    "ax.set_ylabel('\\\\textit{Velocity (\\N{DEGREE SIGN}/sec)}', fontsize=16)\n",
    "ax.set_title(r'\\TeX\\ is Number $\\displaystyle\\sum_{n=1}^\\infty'\n",
    "             r'\\frac{-e^{i\\pi}}{2^n}$!', fontsize=16, color='r')"
   ]
  },
  {
   "cell_type": "code",
   "execution_count": null,
   "metadata": {},
   "outputs": [],
   "source": [
    "import numpy as np\n",
    "import matplotlib.pyplot as plt\n",
    "from scipy.interpolate import make_interp_spline, BSpline\n",
    "\n",
    "\n",
    "\n",
    "# 1k squares\n",
    "x1 = [1, 1.1, 1.4, 2.1, 2.4, 2.5, 2.6, 2.9, 3.3]\n",
    "x2 = [2.2,\t2.5,\t2.55,\t2.65,\t3,\t3.1,\t3.4,\t3.65,\t4.95]\n",
    "x3 = [8,\t7,\t6,\t5,\t5,\t5,\t5,\t4,\t1]\n",
    "time = [9.11,\t8.27,\t7.46,\t5.65, 4.8,\t5.21, 5.26, 4.42, 1.17]\n",
    "acc = [98.42,\t97.7,\t96.89,\t96.77,\t96.65,\t96.54,\t96.5,\t96.04,\t38.07]\n",
    "#acc = [x/100 for x in acc]\n",
    "timeq = [18.7,\t18.5,\t15.49,\t14.3,\t13.32,\t13.88,\t14.12,\t11.84,\t2.96]\n",
    "accq = [93.3,\t92.89,\t88.7,\t89.75,\t89.97,\t89.87,\t89.53,\t87.68,\t36.83]\n",
    "\n",
    "# plot time timeq\n",
    "# and second axis for number of clusters\n",
    "\n",
    "fig, ax1 = plt.subplots()\n",
    "ax1.plot(x2, time, 'b-')\n",
    "ax1.plot(x2, timeq, 'r-')\n",
    "ax1.set_xlabel('hn')\n",
    "ax1.set_ylabel('Time (s)')\n",
    "ax1.set_ylim(0, 20)\n",
    "ax1.set_xlim(2, 5)\n",
    "ax1.legend(['Time', 'Time (quantized)'], loc='upper left')\n",
    "\n",
    "ax2 = ax1.twinx()\n",
    "ax2.plot(x2, x3, 'g-')\n",
    "ax2.set_ylabel('Number of clusters')\n",
    "ax2.set_ylim(0, 10)\n",
    "ax2.legend(['Number of clusters'], loc='upper right')\n",
    "\n",
    "fig.tight_layout()\n",
    "plt.show()"
   ]
  },
  {
   "cell_type": "code",
   "execution_count": 6,
   "metadata": {},
   "outputs": [
    {
     "data": {
      "image/png": "[encoded data removed]",
      "text/plain": [
       "<Figure size 432x288 with 1 Axes>"
      ]
     },
     "metadata": {
      "needs_background": "light"
     },
     "output_type": "display_data"
    }
   ],
   "source": [
    "# create amdahl's law\n",
    "# for y = 1/((1-p) + p/n)\n",
    "# p = from 0.90 to 0.95\n",
    "# n = 1 to 8\n",
    "# y = 1/((1-p) + p/n)\n",
    "\n",
    "\n",
    "y = []\n",
    "x = []\n",
    "for i in range(1, 9):\n",
    "    for j in range(90, 96):\n",
    "        x.append(i)\n",
    "        y.append(1/((1-j/100) + j/100/i))\n",
    "    \n",
    "plt.plot(x, y)\n",
    "\n",
    "plt.xlabel('Number of clusters')\n",
    "plt.ylabel('Speedup')\n",
    "plt.title('Amdahl\\'s law')\n",
    "plt.grid(True)\n",
    "plt.show()\n"
   ]
  },
  {
   "cell_type": "code",
   "execution_count": null,
   "metadata": {},
   "outputs": [],
   "source": []
  }
 ],
 "metadata": {
  "kernelspec": {
   "display_name": "Python 3.10.8 64-bit",
   "language": "python",
   "name": "python3"
  },
  "language_info": {
   "codemirror_mode": {
    "name": "ipython",
    "version": 3
   },
   "file_extension": ".py",
   "mimetype": "text/x-python",
   "name": "python",
   "nbconvert_exporter": "python",
   "pygments_lexer": "ipython3",
   "version": "3.10.8"
  },
  "orig_nbformat": 4,
  "vscode": {
   "interpreter": {
    "hash": "fdd3b9c0dd1375b0cc154880cc37d79c0440eaafec1b5af1fb9573cf2afd776b"
   }
  }
 },
 "nbformat": 4,
 "nbformat_minor": 2
}
