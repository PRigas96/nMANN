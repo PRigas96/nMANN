{
 "cells": [
  {
   "cell_type": "code",
   "execution_count": 6,
   "metadata": {},
   "outputs": [
    {
     "ename": "ModuleNotFoundError",
     "evalue": "No module named 'geometry'",
     "output_type": "error",
     "traceback": [
      "\u001b[0;31m---------------------------------------------------------------------------\u001b[0m",
      "\u001b[0;31mModuleNotFoundError\u001b[0m                       Traceback (most recent call last)",
      "\u001b[0;32m/tmp/ipykernel_14135/1373677676.py\u001b[0m in \u001b[0;36m<module>\u001b[0;34m\u001b[0m\n\u001b[1;32m      4\u001b[0m \u001b[0;32mimport\u001b[0m \u001b[0mmatplotlib\u001b[0m\u001b[0;34m.\u001b[0m\u001b[0mpyplot\u001b[0m \u001b[0;32mas\u001b[0m \u001b[0mplt\u001b[0m\u001b[0;34m\u001b[0m\u001b[0;34m\u001b[0m\u001b[0m\n\u001b[1;32m      5\u001b[0m \u001b[0;32mimport\u001b[0m \u001b[0mmath\u001b[0m\u001b[0;34m\u001b[0m\u001b[0;34m\u001b[0m\u001b[0m\n\u001b[0;32m----> 6\u001b[0;31m \u001b[0;32mimport\u001b[0m \u001b[0mgeometry\u001b[0m \u001b[0;32mas\u001b[0m \u001b[0mgeo\u001b[0m\u001b[0;34m\u001b[0m\u001b[0;34m\u001b[0m\u001b[0m\n\u001b[0m\u001b[1;32m      7\u001b[0m \u001b[0;32mfrom\u001b[0m \u001b[0mrtree\u001b[0m \u001b[0;32mimport\u001b[0m \u001b[0mindex\u001b[0m\u001b[0;34m\u001b[0m\u001b[0;34m\u001b[0m\u001b[0m\n\u001b[1;32m      8\u001b[0m \u001b[0;34m\u001b[0m\u001b[0m\n",
      "\u001b[0;31mModuleNotFoundError\u001b[0m: No module named 'geometry'"
     ]
    }
   ],
   "source": [
    "import numpy as np\n",
    "import random\n",
    "import data as dt \n",
    "import matplotlib.pyplot as plt\n",
    "import math\n",
    "import geometry as geo\n",
    "from rtree import index\n",
    "\n",
    "# lets create a dataset of squares\n",
    "# that do not intersect each other\n",
    "# we will use a np array of squares to store the data\n",
    "# each square will be a vector of x, y, size, rotation\n",
    "# init_square = np.array([x0, y0 , size0, rotation0])\n",
    "# lets create a set of x and y positions\n",
    "# create a x"
   ]
  },
  {
   "cell_type": "code",
   "execution_count": 12,
   "metadata": {},
   "outputs": [
    {
     "name": "stdout",
     "output_type": "stream",
     "text": [
      "max rotation and min are:  89.99815624996671 0.02047972990179936\n"
     ]
    }
   ],
   "source": [
    "#0 array from 0 to 1000 with step 2 \n",
    "\n",
    "max_ = 300\n",
    "step = 1\n",
    "x0 = np.arange(5+1, max_, step)\n",
    "y0 = np.arange(5+1, max_, step)\n",
    "# lets create a set of sizes\n",
    "size0 = np.array([1, 2, 3, 4])\n",
    "# lets create a set of rotations\n",
    "# rotation will be from 0 to 90 degrees\n",
    "mu = [10, 25, 45, 66]\n",
    "sigma = [5, 10, 15, 20]\n",
    "num = 10000\n",
    "rotation0 = dt.rotations(mu, sigma, num)\n",
    "#data = dt.create_data(num, x0, y0, size0, rotation0)\n",
    "print(\"max rotation and min are: \", np.max(rotation0), np.min(rotation0))"
   ]
  },
  {
   "cell_type": "code",
   "execution_count": 2,
   "metadata": {},
   "outputs": [
    {
     "name": "stdout",
     "output_type": "stream",
     "text": [
      "1000\n"
     ]
    }
   ],
   "source": [
    "# load the data from a file .npy\n",
    "data = np.load('./rectangle_data_labels.npy')\n",
    "print(data.__len__())"
   ]
  },
  {
   "cell_type": "code",
   "execution_count": 2,
   "metadata": {},
   "outputs": [
    {
     "name": "stdout",
     "output_type": "stream",
     "text": [
      "861\n"
     ]
    }
   ],
   "source": [
    "data = np.load('./nmann.npy')\n",
    "print(data.__len__())"
   ]
  },
  {
   "cell_type": "code",
   "execution_count": null,
   "metadata": {},
   "outputs": [],
   "source": []
  },
  {
   "cell_type": "code",
   "execution_count": null,
   "metadata": {},
   "outputs": [],
   "source": [
    "# calculate how much space the data are taking from 0,0 to 300,300\n",
    "# we will use the bounding box of the data\n",
    "area_cov = 0\n",
    "area_tot = 300*300\n",
    "\n",
    "for i in range(len(data)):\n",
    "    area_cov += data[i][2]**2\n",
    "\n",
    "print(\"Density of the data is: \", area_cov/area_tot)\n",
    "    "
   ]
  },
  {
   "cell_type": "code",
   "execution_count": null,
   "metadata": {},
   "outputs": [],
   "source": []
  },
  {
   "cell_type": "code",
   "execution_count": null,
   "metadata": {},
   "outputs": [],
   "source": [
    "import visualization as vis\n",
    "min_ = 0\n",
    "#vis.plot_data(data, 20, [- max_ - max(size0), max_ + max(size0), -max_ - max(size0) , max_ + max(size0)])\n",
    "vis.plot_data(data,40,[0-4,300+4,0-4,300+4])"
   ]
  },
  {
   "cell_type": "code",
   "execution_count": 5,
   "metadata": {},
   "outputs": [],
   "source": [
    "kde = KernelDensity(kernel='gaussian', bandwidth=1.8).fit(data[:,-1].reshape(-1, 1))\n",
    "kde1 = KernelDensity(kernel='gaussian', bandwidth=0.001).fit(data.reshape(-1, 1))\n"
   ]
  },
  {
   "cell_type": "code",
   "execution_count": 16,
   "metadata": {},
   "outputs": [
    {
     "data": {
      "image/png": "[encoded data removed]",
      "text/plain": [
       "<Figure size 720x360 with 1 Axes>"
      ]
     },
     "metadata": {
      "needs_background": "light"
     },
     "output_type": "display_data"
    },
    {
     "data": {
      "text/plain": [
       "<Figure size 720x360 with 0 Axes>"
      ]
     },
     "metadata": {},
     "output_type": "display_data"
    }
   ],
   "source": [
    "# plot histogram of rotations\n",
    "x_plot = np.linspace(0, 90, 1000)[:, np.newaxis]\n",
    "plt.hist(data[:,3], bins=200, density=True,label='histogram of rotations')\n",
    "x_d = np.linspace(0, 90, 1000)[:, np.newaxis]\n",
    "log_density = kde.score_samples(x_d)\n",
    "plt.plot(x_d[:, 0], np.exp(log_density), '-', label=\"KDE\",color='red',linewidth=2)\n",
    "# name axis\n",
    "plt.xlabel('Rotation in degrees')\n",
    "plt.ylabel('Density')\n",
    "# put legend\n",
    "plt.legend(loc='upper right')\n",
    "# limit \n",
    "plt.xlim(0, 90)\n",
    "\n",
    "plt.rcParams['figure.figsize'] = [10,5]\n",
    "\n",
    "plt.show()\n",
    "# save image as svg\n",
    "plt.savefig('histogram_rotations.svg', format='svg', dpi=1200)"
   ]
  },
  {
   "cell_type": "code",
   "execution_count": 3,
   "metadata": {},
   "outputs": [
    {
     "ename": "NameError",
     "evalue": "name 'kde' is not defined",
     "output_type": "error",
     "traceback": [
      "\u001b[1;31m---------------------------------------------------------------------------\u001b[0m",
      "\u001b[1;31mNameError\u001b[0m                                 Traceback (most recent call last)",
      "\u001b[1;32mc:\\Users\\wolfm\\Documents\\A-knn\\test.ipynb Cell 10\u001b[0m in \u001b[0;36m<cell line: 4>\u001b[1;34m()\u001b[0m\n\u001b[0;32m      <a href='vscode-notebook-cell:/c%3A/Users/wolfm/Documents/A-knn/test.ipynb#X12sZmlsZQ%3D%3D?line=1'>2</a>\u001b[0m fig, ax \u001b[39m=\u001b[39m plt\u001b[39m.\u001b[39msubplots()\n\u001b[0;32m      <a href='vscode-notebook-cell:/c%3A/Users/wolfm/Documents/A-knn/test.ipynb#X12sZmlsZQ%3D%3D?line=2'>3</a>\u001b[0m x_d \u001b[39m=\u001b[39m np\u001b[39m.\u001b[39mlinspace(\u001b[39m0\u001b[39m, \u001b[39m90\u001b[39m, \u001b[39m1000\u001b[39m)[:, np\u001b[39m.\u001b[39mnewaxis]\n\u001b[1;32m----> <a href='vscode-notebook-cell:/c%3A/Users/wolfm/Documents/A-knn/test.ipynb#X12sZmlsZQ%3D%3D?line=3'>4</a>\u001b[0m log_dens \u001b[39m=\u001b[39m kde\u001b[39m.\u001b[39mscore_samples(x_d)\n\u001b[0;32m      <a href='vscode-notebook-cell:/c%3A/Users/wolfm/Documents/A-knn/test.ipynb#X12sZmlsZQ%3D%3D?line=4'>5</a>\u001b[0m log_dens1 \u001b[39m=\u001b[39m kde1\u001b[39m.\u001b[39mscore_samples(x_d)\n\u001b[0;32m      <a href='vscode-notebook-cell:/c%3A/Users/wolfm/Documents/A-knn/test.ipynb#X12sZmlsZQ%3D%3D?line=5'>6</a>\u001b[0m w \u001b[39m=\u001b[39m \u001b[39m360\u001b[39m\n",
      "\u001b[1;31mNameError\u001b[0m: name 'kde' is not defined"
     ]
    },
    {
     "data": {
      "image/png": "[encoded data removed]",
      "text/plain": [
       "<Figure size 432x288 with 1 Axes>"
      ]
     },
     "metadata": {
      "needs_background": "light"
     },
     "output_type": "display_data"
    }
   ],
   "source": [
    "# plot the before and after in same plot\n",
    "fig, ax = plt.subplots()\n",
    "x_d = np.linspace(0, 90, 1000)[:, np.newaxis]\n",
    "log_dens = kde.score_samples(x_d)\n",
    "log_dens1 = kde1.score_samples(x_d)\n",
    "w = 360\n",
    "ax.plot(x_d[:, 0], 4*w*np.exp(log_dens), '-', linewidth=2,color='red')\n",
    "ax.plot(x_d[:, 0], 4*w*np.exp(log_dens1), '-', linewidth=1,color='blue',alpha=0.5)\n",
    "#ax.hist(alpha, 50, fc='blue', histtype='stepfilled', alpha=0.2)\n",
    "ax.set_xlim(0, 90)\n",
    "ax.set_ylim(0, 60)\n",
    "# legend\n",
    "ax.legend( ('KDE', 'Input'), loc='upper right')\n",
    "# name x axis\n",
    "ax.set_xlabel('Rotation (degrees)')\n",
    "plt.show()"
   ]
  },
  {
   "cell_type": "code",
   "execution_count": null,
   "metadata": {},
   "outputs": [],
   "source": [
    "dataset = np.array(data)[:,-1]\n",
    "kde = KernelDensity(kernel='gaussian', bandwidth=3).fit(dataset.reshape(-1, 1))\n",
    "s = np.linspace(0,90)\n",
    "e = kde.score_samples(s.reshape(-1,1))\n",
    "plt.plot(s, e)"
   ]
  },
  {
   "cell_type": "code",
   "execution_count": null,
   "metadata": {},
   "outputs": [],
   "source": [
    "data[:,-1]"
   ]
  },
  {
   "cell_type": "code",
   "execution_count": 3,
   "metadata": {},
   "outputs": [],
   "source": [
    "from  sklearn.neighbors._kde import KernelDensity\n",
    "from scipy.signal import argrelextrema\n",
    "def GetBandwidth(data):\n",
    "    # get bandwidth for kernel density estimation\n",
    "    # bw must be limited by:\n",
    "    # 1. it minimizes the distance between the maximum and mean of a cluster\n",
    "    # 2. the distance between two cluster means is maximazied\n",
    "    # or be chosen manually\n",
    "    # or be chosen by cross validation\n",
    "    # or so that the cluster's sizes are not too different from each other\n",
    "    bandwidth = 0\n",
    "    \n",
    "  \n",
    "    \n",
    "    return bandwidth\n",
    "def rclustering(dataset, bandwidth_method = 'opt'): \n",
    "    dataset = np.array(dataset)\n",
    "    data = dataset[:,-1]\n",
    "    if bandwidth_method == 'opt':\n",
    "        bandwidth = GetBandwidth(data)\n",
    "    else:\n",
    "        bandwidth = float(bandwidth_method)\n",
    "    #print(\"bandwidth: \", bandwidth)\n",
    "    kde = KernelDensity(kernel='gaussian', bandwidth=bandwidth).fit(data.reshape(-1, 1))\n",
    "    s = np.linspace(0,90)\n",
    "    e = kde.score_samples(s.reshape(-1,1))\n",
    "    plt.plot(s, e)\n",
    "    mi, ma = argrelextrema(e, np.less)[0], argrelextrema(e, np.greater)[0]\n",
    "    # print them\n",
    "    #print(\"minima: \", s[mi])\n",
    "    #print(\"maxima: \", s[ma])\n",
    "    # create a np.array of the clusters\n",
    "    # maximum length is one more than minimum\n",
    "    clusters = []\n",
    "    for i in range(mi.__len__()):\n",
    "        temp = []\n",
    "        if i == 0:\n",
    "            for j in range(data.__len__()):\n",
    "                if data[j] <= s[mi[i]]:\n",
    "                    temp.append(dataset[j])\n",
    "            clusters.append(np.array(temp))\n",
    "            continue\n",
    "        if i > 0 and i <= mi.__len__()-1:\n",
    "            for j in range(data.__len__()):\n",
    "                if data[j] <= s[mi[i]] and data[j] > s[mi[i-1]]:\n",
    "                    temp.append(dataset[j])\n",
    "            clusters.append(np.array(temp))\n",
    "            if i == mi.__len__()-1:\n",
    "                temp = []\n",
    "                for j in range(data.__len__()):\n",
    "                    if data[j] > s[mi[i]]:\n",
    "                        temp.append(dataset[j])\n",
    "                clusters.append(np.array(temp))\n",
    "            continue\n",
    "    print(\"number of clusters: \", clusters.__len__())\n",
    "    return np.array(clusters), s[mi], s[ma]\n",
    "                \n",
    "# compress data and calculate error for each cluster\n",
    "def compress_data(clusters, min, max):\n",
    "    print(\"No of clusters: \", clusters.__len__())\n",
    "    print(\"No of min and max points: \", min.__len__(), max.__len__())\n",
    "    error = [0 for i in range (clusters.__len__())]\n",
    "    \n",
    "    for i in range(clusters.__len__()):\n",
    "        maxima = np.max(clusters[i][:,-1])\n",
    "        print(\"maxima: \", maxima)\n",
    "        mean = np.mean(clusters[i][:,-1])\n",
    "        print(\"mean: \", mean)\n",
    "        # calculate error\n",
    "        for j in range(clusters[i].__len__()):\n",
    "            error[i] += (maxima - clusters[i][j][-1])\n",
    "            clusters[i][j][-1] = mean \n",
    "    return clusters , error\n",
    "\n",
    "# create a cost function for w_error and bandwidth, so that u choose bandwidth to minimize w_error\n",
    "# w_error must take into  account the number of clusters, we dont want to have too many clusters or too few\n",
    "def cost_function(bandwidth):\n",
    "    clusters, min, max = rclustering(data, bandwidth_method = bandwidth)\n",
    "    new_data , error = compress_data(clusters, min, max)\n",
    "    print(\"error: \", error)\n",
    "    w_error = 0\n",
    "    n_error = []\n",
    "    for i in range(error.__len__()):\n",
    "        w_error += np.abs(error[i])\n",
    "        n_error.append( error[i] / clusters[i].__len__())\n",
    "    return w_error,n_error, error, clusters.__len__()"
   ]
  },
  {
   "cell_type": "code",
   "execution_count": null,
   "metadata": {},
   "outputs": [],
   "source": [
    "# plot the cost function for bw from 0.1 to 90\n",
    "bw = np.arange(0.1,5 , 0.05)\n",
    "cost = []\n",
    "for i in bw:\n",
    "    cost.append(cost_function(i))\n",
    "cost = np.array(cost)\n"
   ]
  },
  {
   "cell_type": "code",
   "execution_count": 5,
   "metadata": {},
   "outputs": [
    {
     "data": {
      "image/png": "[encoded data removed]",
      "text/plain": [
       "<Figure size 432x288 with 2 Axes>"
      ]
     },
     "metadata": {},
     "output_type": "display_data"
    }
   ],
   "source": [
    "# create figure and axis objects with subplots()\n",
    "fig,ax = plt.subplots()\n",
    "# make a plot\n",
    "ax.plot(bw,\n",
    "        cost[:,0],\n",
    "        color=\"red\")\n",
    "# set x-axis label\n",
    "ax.set_xlabel(\"Bandwidth\", fontsize = 14)\n",
    "# set y-axis label\n",
    "ax.set_ylabel(\"error\",color=\"red\", fontsize = 14)\n",
    "# twin object for two different y-axis on the sample plot\n",
    "ax2=ax.twinx()\n",
    "# make a plot with different y-axis using second axis object\n",
    "ax2.plot(bw,\n",
    "         cost[:,-1],\n",
    "         color=\"blue\")\n",
    "ax2.set_ylabel(\"number of clusters\",color=\"blue\", fontsize = 14)\n",
    "# put limits\n",
    "ax.set_xlim(0.1, 4.5)\n",
    "plt.show()"
   ]
  },
  {
   "cell_type": "code",
   "execution_count": 6,
   "metadata": {},
   "outputs": [
    {
     "data": {
      "image/png": "[encoded data removed]",
      "text/plain": [
       "<Figure size 432x288 with 1 Axes>"
      ]
     },
     "metadata": {},
     "output_type": "display_data"
    },
    {
     "name": "stdout",
     "output_type": "stream",
     "text": [
      "optimal bandwidth:  [2.7  2.75 2.8  2.85 2.9  2.95 3.  ]\n"
     ]
    }
   ],
   "source": [
    "# convolute error and number of clusters to get a cost function\n",
    "y1 = cost[:,0]\n",
    "y1_max = np.max(y1)\n",
    "y2 = cost[:,-1]\n",
    "y2_max = np.max(y2)\n",
    "y1_norm = y1 / y1_max\n",
    "y2_norm = y2 / y2_max\n",
    "#y = np.convolve(y1, y2, mode='same')\n",
    "#y3 = (y1**2) * (y2**3)\n",
    "#plt.plot(bw, y)\n",
    "#plt.plot(bw, y3)\n",
    "# y2 is more important than y1\n",
    "y2_weight =2\n",
    "d = abs(y1_norm - y2_weight*y2_norm)\n",
    "fig,ax = plt.subplots()\n",
    "ax.plot(bw, d)\n",
    "ax.set_xlabel(\"Bandwidth\", fontsize = 14)\n",
    "ax.set_ylabel(\"new error\", fontsize = 14)\n",
    "ax.set_xlim(0.1, 4.5)\n",
    "plt.show()\n",
    "a = np.where(d == np.min(d))\n",
    "print(\"optimal bandwidth: \", bw[a])"
   ]
  },
  {
   "cell_type": "code",
   "execution_count": 7,
   "metadata": {},
   "outputs": [
    {
     "name": "stdout",
     "output_type": "stream",
     "text": [
      "number of clusters:  5\n",
      "No of clusters:  5\n",
      "No of min and max points:  4 5\n",
      "maxima:  20.055264993693825\n",
      "mean:  10.793725595691733\n",
      "maxima:  44.07499711081502\n",
      "mean:  31.466484745752044\n",
      "maxima:  51.37346045669197\n",
      "mean:  47.602474849071896\n",
      "maxima:  78.8525124877757\n",
      "mean:  63.28079042672641\n",
      "maxima:  89.95544919896491\n",
      "mean:  84.72233873419054\n"
     ]
    },
    {
     "name": "stderr",
     "output_type": "stream",
     "text": [
      "C:\\Users\\wolfm\\AppData\\Local\\Temp\\ipykernel_18280\\405164238.py:56: VisibleDeprecationWarning: Creating an ndarray from ragged nested sequences (which is a list-or-tuple of lists-or-tuples-or ndarrays with different lengths or shapes) is deprecated. If you meant to do this, you must specify 'dtype=object' when creating the ndarray.\n",
      "  return np.array(clusters), s[mi], s[ma]\n"
     ]
    },
    {
     "data": {
      "image/png": "[encoded data removed]",
      "text/plain": [
       "<Figure size 432x288 with 1 Axes>"
      ]
     },
     "metadata": {},
     "output_type": "display_data"
    }
   ],
   "source": [
    "cluster,min_, max_ = rclustering(data, bandwidth_method = 3)\n",
    "clusters, error = compress_data(cluster, min_, max_)\n",
    "#clusters = cluster"
   ]
  },
  {
   "cell_type": "code",
   "execution_count": 8,
   "metadata": {},
   "outputs": [
    {
     "data": {
      "text/plain": [
       "array([66.38649724, 13.35239085, 58.54426163,  7.46542136, 22.84881844,\n",
       "       22.42928579, 70.12706244, 56.58261836, 26.01718398, 19.65220282,\n",
       "       82.32751315, 45.89066551, 23.80159307, 88.20002583, 43.3540676 ,\n",
       "       71.36880738, 62.04301022, 55.11051165,  7.79540181, 40.98361725,\n",
       "       15.43446134, 23.69072883, 21.85487903, 17.14814122, 27.68233388,\n",
       "       49.86740955, 58.38427796, 87.14677415, 64.0566076 ,  0.        ,\n",
       "       64.8884511 , 38.20706636, 15.71683941, 63.90865698, 53.69869118,\n",
       "       77.80021431, 49.21191284, 55.27835344, 26.13137512, 12.00748983,\n",
       "       44.27061348, 45.78935305, 63.2665886 , 83.95081104, 30.32977952,\n",
       "       31.83079992, 81.99623223, 26.33628888,  0.93237232, 29.53305442,\n",
       "       24.1025384 , 10.48264038, 56.51792124, 15.33417891, 57.98797819,\n",
       "       74.98832436, 47.67710434, 67.1171547 , 11.06603415, 38.98123509,\n",
       "       85.10298361, 14.89089128, 12.28292739, 55.54010475, 36.63039284,\n",
       "        0.        , 29.37979998, 67.64693461, 26.75895955, 39.43962869,\n",
       "       62.8861213 , 22.98391318, 61.64212974, 26.70684244, 39.90295211,\n",
       "       14.9251122 , 44.50414299,  5.36666302, 11.77162133, 14.05846148,\n",
       "       37.38287754, 74.75187869, 41.10172054, 11.62644765, 61.1605906 ,\n",
       "       64.35584684, 53.99866225, 57.33451495, 20.54170448, 59.03687428,\n",
       "       23.13101396, 38.14823819, 19.260206  ,  6.87462517,  8.00879859,\n",
       "       58.84922046,  6.04127504, 64.45998621, 21.39983863, 30.27790502,\n",
       "       53.27118646, 48.53656672, 43.74363475, 61.3317895 , 53.98078048,\n",
       "       55.72444947, 10.76006782, 69.50797496, 30.64205027, 46.09041077,\n",
       "       50.75217693,  0.        , 27.21286116, 40.85546709, 28.95387774,\n",
       "        9.08049069,  9.06372563, 11.62644765, 16.4600255 , 34.32866991,\n",
       "       11.60576754, 38.9758843 , 47.67299661, 51.5353315 , 82.58388964,\n",
       "       23.85384159, 32.76576413, 11.14830222, 10.79852981, 89.51062145,\n",
       "       86.19850069, 44.76051241,  9.09349813,  0.89877879, 75.18037047,\n",
       "       85.58633047, 27.14511582, 73.29822985, 78.05320164, 40.2615614 ,\n",
       "        1.98694986, 67.26002622, 14.90298307, 84.62163498,  8.30350815,\n",
       "       20.10035688,  3.10571412, 26.80103924, 50.28489092, 27.32334376,\n",
       "        0.        ,  4.80754986, 22.06690427, 13.67278111, 24.61977614,\n",
       "       13.2769547 , 29.53412775, 84.87749667, 19.18192339, 58.19258   ,\n",
       "       61.009049  ,  9.87202601, 11.03168896,  0.        ,  8.66531039,\n",
       "       16.3080253 , 15.9955313 , 55.01931728, 16.89746631, 21.41147285,\n",
       "        5.60156974, 13.43965355,  0.        , 57.52890236, 71.44273636,\n",
       "       61.71726784, 17.88436468, 73.65207202, 35.56555741, 43.12326688,\n",
       "       46.13799208,  0.        ,  6.58137612, 69.81045685, 89.73144884,\n",
       "       30.51588003, 12.08886209, 23.26626135, 22.20566911, 54.78444157,\n",
       "        9.60608268, 32.97807984, 33.444455  , 61.91455722, 15.59332348,\n",
       "       75.11580849, 16.49293808, 47.02385774, 47.50118659, 43.94704754,\n",
       "       14.66549109, 49.57366562, 55.72444947,  0.        , 20.36674742,\n",
       "       33.14070608, 35.42206297, 10.82723205, 42.07887002,  5.07549277,\n",
       "       45.0407477 , 22.42928579, 83.80822803,  6.27858452,  6.98358002,\n",
       "        1.22068987, 54.87790627, 78.72073167, 41.07446292, 62.71060976,\n",
       "       26.19668138, 26.66900491, 33.07061225,  5.64856207,  0.        ,\n",
       "       69.21213997, 75.044187  , 54.36668157, 35.79748377,  3.45497571,\n",
       "       11.11595557, 35.12263437,  3.97873836,  7.08625543, 70.27341345,\n",
       "        0.        , 19.65113601, 38.50315307, 59.73644794,  0.        ,\n",
       "       30.1651187 , 12.80497199, 70.50510119, 10.2448838 , 27.44524579,\n",
       "       68.78603432, 34.74067206, 61.67253545, 11.22192588, 17.97186158,\n",
       "       71.44346715,  8.32797235,  4.12652933,  5.57548496, 42.5431154 ,\n",
       "        3.2869886 , 65.35425737, 13.91726599, 22.96559133, 34.35429233,\n",
       "        0.        , 18.12546333, 40.64388584, 74.83214031,  3.57927844,\n",
       "       46.06638773, 52.05069994,  4.30663425, 16.32287941, 12.13392865,\n",
       "       70.41260606,  2.95991735, 54.52489509, 54.22538365, 49.36860901,\n",
       "       14.10235254, 12.71414021,  6.44259108,  0.        , 65.64050561,\n",
       "       22.84951194, 28.7197654 , 41.15535111, 32.71092729, 39.4716731 ,\n",
       "       13.75424824, 15.93716356, 55.41127459, 17.75404208, 53.05558587,\n",
       "       55.79484399,  5.56263901, 57.92836085,  0.        ,  6.95266521,\n",
       "        9.00794272, 67.7100304 , 75.03225512, 31.01363443, 58.52887916,\n",
       "       72.64585869,  0.        , 80.00157809, 74.98832436,  6.88991474,\n",
       "       44.87131748, 14.49572945, 59.17033792,  0.        , 74.97362231,\n",
       "       23.62232747,  8.97893729,  2.67316289, 10.13593104,  0.        ,\n",
       "       23.76698827, 26.52809611, 54.03045021, 69.68900547, 82.39543418,\n",
       "       77.06853239, 28.67299   , 43.23009178, 42.72935105, 50.87765895,\n",
       "       25.65164666, 59.57361875, 22.90206371, 28.43707766, 25.81935947,\n",
       "       56.36866992, 11.96890541,  0.        , 39.16678572,  6.96739215,\n",
       "       25.4191733 , 16.92831394, 59.91479339,  0.        , 46.70851394,\n",
       "       40.27875423, 76.30745942, 12.54355983,  0.        , 11.34941486,\n",
       "       72.82638024, 53.27118646, 74.27960576,  0.        ,  2.13121585,\n",
       "       27.82047408,  5.82753385, 27.7986693 , 30.13026604, 33.44618776,\n",
       "       44.25934642, 25.79896493,  4.5467289 , 49.88236205,  2.45516255,\n",
       "       21.99566318,  5.80876066, 27.62357774, 12.80132558, 19.49970281,\n",
       "       30.54059551,  0.        ,  0.        , 28.17318401, 74.27960576,\n",
       "       18.21579667, 42.05994251,  0.        ,  8.50087157, 17.30967962,\n",
       "        0.        , 45.53069059,  7.90021838, 64.63340511, 11.65996079,\n",
       "       37.07687549, 58.24964798,  0.        , 10.26962213,  6.44259108,\n",
       "        5.72099409,  0.        , 48.35731236, 61.3317895 , 59.03687428,\n",
       "        6.77297002, 27.38565091, 16.85267176, 11.45710063, 11.17916805,\n",
       "       23.46298591, 31.83079992, 20.33781184, 17.22567101, 58.52887916,\n",
       "       73.62985784, 38.06403554, 21.5497941 , 21.99566318,  0.        ,\n",
       "       26.70014054,  6.77297002, 58.19639248,  6.58137612, 62.85449862,\n",
       "        0.        , 22.89929389, 46.28156981, 69.40278396, 35.52666324,\n",
       "       78.05320164, 85.97281197, 14.08500725, 14.55108218, 65.07507145,\n",
       "       47.72654334,  4.22127086, 24.27716402, 25.50973939, 63.268028  ,\n",
       "        0.        , 30.45547363,  1.78044341, 77.97111334, 84.56202838,\n",
       "        0.        ,  1.85190594, 22.31517815,  6.38733216, 16.4544978 ,\n",
       "       34.72118   , 10.88701573, 22.13510304, 31.40267815, 14.56153484,\n",
       "       12.58169814, 70.33427404, 75.03225512,  9.15430793,  6.47772406,\n",
       "       84.46081754, 10.98836415, 68.98274814,  0.        , 17.22567101,\n",
       "       62.38548208, 75.76474247,  7.8645688 , 35.19971717, 31.93704468,\n",
       "       47.26152957, 65.60060247, 10.33517583, 56.27993539, 41.30587786,\n",
       "       35.2070838 , 38.12521134, 26.57311495, 27.08994595, 63.77572134,\n",
       "       74.00202003,  8.72412723, 44.17079421, 31.52613854, 18.44634772,\n",
       "        0.        , 29.3761613 , 48.62730262, 38.1788072 , 44.39605343,\n",
       "        0.        , 18.44634772, 40.87532472, 42.32777848, 11.77162133,\n",
       "       36.8853406 , 30.51588003,  0.        , 19.88354367, 38.10270083,\n",
       "       15.02475915, 20.78734682,  8.05489169, 13.00484419, 11.94512158,\n",
       "       10.28822831, 10.97551983, 33.14720165, 68.2961079 ,  0.        ,\n",
       "        1.22068987, 63.04084077, 62.4528074 , 80.4130463 ,  0.        ,\n",
       "        0.        ,  0.        ,  0.        , 14.82520773, 29.83662796,\n",
       "       25.4191733 , 88.71842789, 84.21783164,  8.21902477,  0.        ,\n",
       "       64.69085836, 59.91479339,  0.        , 24.13524649, 69.02533572,\n",
       "        5.20820562,  5.32398706, 17.91359825, 24.1025384 , 44.13114094,\n",
       "       18.57941192,  2.6681734 , 69.33046103, 41.58413428, 55.36153464,\n",
       "       23.91415519, 51.91463694, 57.47569988,  9.57536642,  8.66584965,\n",
       "        0.        , 49.65035789, 35.52666324, 80.56376176, 49.82430037,\n",
       "       11.81891095,  0.        ,  0.        , 80.05865764,  2.16309872,\n",
       "        4.12652933,  0.        , 11.47356841, 47.43828264, 85.40067705,\n",
       "       47.13696841, 69.32509713,  9.47091908, 70.01902359, 11.0160989 ,\n",
       "        7.96235673,  0.        , 59.28033958, 65.04994604, 11.81891095,\n",
       "        9.93574452,  0.        , 47.70860353, 35.59925896, 49.58515689,\n",
       "       20.94479786, 75.63846884, 48.25348347,  0.        , 24.62874708,\n",
       "        0.        , 11.6138338 , 68.30402834,  6.95266521, 14.60345488,\n",
       "       20.21186462, 13.2769547 , 19.02228852, 85.28070075,  0.        ,\n",
       "       35.57001562, 83.95081104, 51.91463694, 69.0302716 , 17.67854155,\n",
       "        0.        , 13.79266847, 28.86871658,  0.        , 49.76104595,\n",
       "        0.        , 64.79408752, 14.12751927, 77.97111334,  0.        ,\n",
       "       27.2787382 ,  0.        , 76.85450053, 10.05246383, 18.31315719,\n",
       "       23.72503066, 47.10131529, 80.84729306, 11.81891095, 11.23484371,\n",
       "       64.45735406,  0.81882521,  7.62460353, 34.54311392, 29.5927195 ,\n",
       "        6.68736156, 17.2755664 , 15.41358422, 36.07515471,  0.        ,\n",
       "       58.01900866, 11.10595789, 19.8184832 , 14.99742101, 39.41336567,\n",
       "       12.44526662, 15.21256688, 35.96762743, 46.60662701,  0.        ,\n",
       "       73.36161483, 39.97269533, 48.22137159, 35.56555741, 49.61089511,\n",
       "       61.05618831, 19.14062922, 35.65114463, 27.60832054,  0.        ,\n",
       "       48.37563713, 68.33384507, 38.33535407, 18.53809379, 13.32214682,\n",
       "        0.        , 83.61342194, 40.15385414, 11.62111798, 39.4716731 ,\n",
       "        0.        , 47.81981065, 44.13114094,  9.71140641, 26.70014054,\n",
       "       37.97238415, 20.08649341,  3.06690676, 13.51648388, 45.01340281,\n",
       "        0.        ,  6.98358002, 33.00849427, 30.43578624, 19.33280013,\n",
       "       38.06403554,  0.        , 52.24551511, 64.98165222, 44.76051241,\n",
       "        8.37684247, 19.73182132, 34.72118   , 28.16370684, 58.67639129,\n",
       "       62.90558398, 30.66750185, 10.98836415,  0.        , 71.3313517 ,\n",
       "        8.41829978,  0.        ,  0.40922941,  8.84842125, 77.07560006,\n",
       "        0.        , 72.64211867, 59.16405313, 43.54011476,  0.        ,\n",
       "       87.03585804,  9.03481164,  0.        ,  0.        ,  0.        ,\n",
       "       14.92811871, 10.86580321, 17.87666499, 12.85962345,  0.        ,\n",
       "       38.33242278, 24.20968894, 81.04550336, 12.61720461, 30.51588003,\n",
       "       66.57672115,  0.        , 31.31962125, 19.33280013, 26.82689539,\n",
       "        0.        , 26.94084637,  8.65285107, 44.87131748, 13.52365638,\n",
       "        7.54406049, 52.94979699, 65.82132136, 59.57720127, 34.74067206,\n",
       "       28.45170875, 31.2500491 , 54.38555646, 31.79980938, 18.37647796,\n",
       "        0.        ,  0.        , 42.32582226,  0.        , 67.69032462,\n",
       "       27.26945292, 58.89081767,  8.48654284, 55.35533681,  0.        ,\n",
       "       77.7041785 , 27.82037206, 40.21750023, 14.41127731, 28.59910218,\n",
       "       44.87131748,  0.        , 19.14062922, 49.76104595, 56.21500497,\n",
       "       68.8951221 ,  0.        ,  0.        ,  0.        , 33.01447843,\n",
       "       63.77272494, 36.64540665,  8.65469678, 16.31368529, 60.21507267,\n",
       "       88.12509509, 31.95802728, 12.15766395,  0.        ,  0.        ,\n",
       "       57.06635725, 48.77900932,  0.        , 37.39271079, 19.57207043,\n",
       "       23.87091042,  0.        , 26.77634684, 25.64421232,  0.        ,\n",
       "        5.56263901,  8.86772459, 12.27277452,  7.38982038, 13.81029847,\n",
       "        0.        , 56.54241997, 23.85384159, 59.03687428, 14.41127731,\n",
       "       45.86527935, 59.20612447,  4.45366553,  0.        ,  9.31159526,\n",
       "       12.93323839, 50.87765895, 30.9357271 , 89.89533815,  1.78044341,\n",
       "       53.20918297, 54.1983464 , 58.64105172, 44.87131748, 54.36668157,\n",
       "       36.08898775, 23.91498417, 41.46081156, 34.2156628 , 49.08811235,\n",
       "       20.78793957, 17.69835231, 24.5625779 , 21.55036096,  0.        ,\n",
       "        0.        ,  0.        ,  0.        ,  0.        , 54.17721223,\n",
       "       35.30089033,  0.        , 40.15385414, 38.84203832, 25.27816278,\n",
       "        0.        , 14.94675419, 29.38606744,  0.        ,  0.        ,\n",
       "        9.92198842, 38.28042208,  9.99843589,  0.        , 28.64239264,\n",
       "        0.        , 64.4249673 , 15.06959606, 14.175317  , 70.25922608,\n",
       "       44.87203252, 25.11286722, 12.45116292,  7.91144694, 42.6707367 ,\n",
       "       15.9550554 , 33.34786969, 32.13297081,  0.        ,  2.66810152,\n",
       "        0.        ,  0.        , 39.11318208,  0.        , 40.71143759,\n",
       "        4.00040367, 55.93904582, 34.9535637 , 59.20765703,  6.67715228,\n",
       "        4.64889396,  4.51416004,  0.        , 34.56037529,  0.        ,\n",
       "        0.        , 45.77299923, 58.7550165 , 89.73373577,  0.        ,\n",
       "       34.40850706, 26.13137512, 83.00185043,  0.        , 43.02293231,\n",
       "       22.13982077, 81.99623223, 47.18399627, 50.83005255,  4.99616461,\n",
       "       65.06843614, 63.48004421,  0.        , 55.03954599,  5.20820562,\n",
       "        7.62460353, 27.68233388,  0.        , 38.14823819, 13.19058761,\n",
       "       70.89873747,  3.45497571, 20.6668243 , 76.44377688,  0.        ,\n",
       "       57.23567041, 31.14636467, 16.3080253 , 27.21286116, 58.04085173,\n",
       "        0.        , 46.16989738, 26.27286922, 49.20883188, 36.95259194,\n",
       "       12.30454046, 78.54158281, 22.17837   , 52.07491973, 69.2342961 ,\n",
       "        4.21335595, 17.95983989, 29.02795893,  0.        , 24.0121142 ,\n",
       "       30.01525447, 65.6582059 ,  7.73540379,  0.        , 45.32751843,\n",
       "       74.97362231, 36.63039284, 73.69106016,  0.        , 25.48641968,\n",
       "       64.0566076 ,  6.09470417, 47.32697679, 20.78793957,  9.12430623,\n",
       "       35.78015476, 39.90295211, 54.40876849, 19.25128068,  0.        ,\n",
       "       26.66900491,  0.        ,  0.        ,  0.        ,  0.        ,\n",
       "       30.43578624, 83.80822803, 34.25259661, 64.00975716,  0.        ,\n",
       "        0.        , 32.83875262, 43.69891005,  0.        , 65.91900848,\n",
       "       16.85267176, 19.57207043,  0.        , 24.25574618,  5.119734  ,\n",
       "       40.44269746, 71.24734891, 66.56404686, 51.71628481, 49.20883188,\n",
       "       35.19971717,  0.        ,  3.04812857, 33.14720165, 23.92792076,\n",
       "       83.81990112, 73.42765192, 79.51637025, 80.08832545, 61.65479251,\n",
       "       28.29518907,  0.        , 14.2629607 ,  0.        , 29.11246893,\n",
       "       23.82537556, 83.80822803, 39.56442326, 30.39424641, 16.92831394,\n",
       "       31.63676032, 79.18346593, 64.0326753 , 20.33781184,  0.        ,\n",
       "       18.08679516,  9.16876177, 11.13791197,  0.        , 52.87298088,\n",
       "       50.76933923,  8.88274452, 23.08692505,  2.44218781,  0.        ,\n",
       "       11.34941486, 16.38906836, 75.044187  , 15.82380822, 26.61255562,\n",
       "       15.64839332,  9.70665836,  6.50544957,  0.        ,  0.        ,\n",
       "        0.        , 88.71316557, 16.69146148,  0.        , 33.70655562,\n",
       "       67.9167784 , 16.48316815, 26.95019159, 82.29965559, 22.96951868,\n",
       "       20.27348867, 13.45974305, 12.49623021,  5.96139918,  0.        ])"
      ]
     },
     "execution_count": 8,
     "metadata": {},
     "output_type": "execute_result"
    }
   ],
   "source": [
    "data[:,-1]"
   ]
  },
  {
   "cell_type": "code",
   "execution_count": 7,
   "metadata": {},
   "outputs": [
    {
     "data": {
      "image/png": "[encoded data removed]",
      "text/plain": [
       "<Figure size 432x288 with 1 Axes>"
      ]
     },
     "metadata": {},
     "output_type": "display_data"
    }
   ],
   "source": [
    "# create histogram of rotations\n",
    "plt.hist(data[:,-1], bins = 100)\n",
    "plt.show()"
   ]
  },
  {
   "cell_type": "code",
   "execution_count": null,
   "metadata": {},
   "outputs": [],
   "source": [
    "# number of spaces is equal to number of clusters\n",
    "print(\"number of spaces: \", clusters.__len__())\n",
    "# space rotation is equal to the mean of the cluster\n",
    "for i in range(clusters.__len__()):\n",
    "    print(\"space rotation: \", np.mean(clusters[i][:,-1]))"
   ]
  },
  {
   "cell_type": "code",
   "execution_count": null,
   "metadata": {},
   "outputs": [],
   "source": [
    "Sr = [clusters[i][0,-1] for i in range(clusters.__len__()) ]"
   ]
  },
  {
   "cell_type": "code",
   "execution_count": 1,
   "metadata": {},
   "outputs": [],
   "source": [
    "# lets find nearest neighbour.\n",
    "def distance_from_rectangle(point, square):\n",
    "    x0 = point[0]\n",
    "    y0 = point[1]\n",
    "    px0 = square[0]\n",
    "    py0 = square[1]\n",
    "    w = square[2]\n",
    "    h = square[3]\n",
    "    #pl = square[2]\n",
    "    dist = 0\n",
    "    distx=0\n",
    "    disty=0\n",
    "    # distance for l = 0\n",
    "    dx = px0 - x0\n",
    "    dy = py0 - y0\n",
    "    # distance for l = pl\n",
    "    dxl= dx + w\n",
    "    dyl= dy + h\n",
    "    cases = [dx>0,dx<0,dy>0,dy<0,dxl>0,dxl<0,dyl>0,dyl<0]\n",
    "    # check x axis first\n",
    "    if dxl < 0:\n",
    "        distx = abs(dxl)\n",
    "    elif dx > 0:\n",
    "        distx = abs(dx)\n",
    "    else:\n",
    "        distx = 0\n",
    "\n",
    "    # check y axis\n",
    "    if dyl < 0:\n",
    "        disty = abs(dyl)\n",
    "    elif dy > 0:\n",
    "        disty = abs(dy)\n",
    "    else:\n",
    "        disty = 0\n",
    "    \n",
    "    dist = np.sqrt(distx**2 + disty**2)\n",
    "    return dist\n",
    "\n",
    "def dist_rsq(point, square):\n",
    "    # rotate the point\n",
    "    point = rotate_point([square[0],square[1]],point, np.deg2rad(square[-1]))\n",
    "    #print(\"point: \", point)\n",
    "    dist = distance_from_rectangle(point, square)\n",
    "    return dist\n",
    "def get_deg(p1, p2):\n",
    "    x1 = p1[0]\n",
    "    y1 = p1[1]\n",
    "    x2 = p2[0]\n",
    "    y2 = p2[1]\n",
    "    if x1 == x2:\n",
    "        if y1 > y2:\n",
    "            return 90\n",
    "        else:\n",
    "            return 270\n",
    "    else:\n",
    "        m = (y2-y1)/(x2-x1)\n",
    "        #print(\"m: \", m)\n",
    "        deg = np.rad2deg(np.arctan(m))\n",
    "        if x1 > x2:\n",
    "            deg += 180\n",
    "        elif y1 > y2:\n",
    "            deg += 360\n",
    "        return deg\n",
    "def rotate_point(init_point, point, theta):\n",
    "    if np.all(init_point == point):\n",
    "        return point\n",
    "\n",
    "    else:\n",
    "        x0 = init_point[0]\n",
    "        y0 = init_point[1]\n",
    "        x1 = point[0]\n",
    "        y1 = point[1]\n",
    "        theta_0 = np.deg2rad(get_deg(init_point, point))\n",
    "        theta_r = theta\n",
    "        theta_1 = theta_0 - theta_r\n",
    "        #print(\"theta_0: \", theta_0)\n",
    "        #print(\"theta_r: \", theta_r)\n",
    "        #print(\"theta_1: \", theta_1)\n",
    "        dist = np.sqrt((x0-x1)**2 + (y0-y1)**2)\n",
    "        pr = np.rad2deg(theta_1)\n",
    "        if pr>=0 and pr<=90:\n",
    "            prx = 1\n",
    "            pry = 1\n",
    "        elif pr>90 and pr<=180:\n",
    "            prx = -1\n",
    "            pry = 1\n",
    "        elif pr>180 and pr<=270:\n",
    "            prx = -1\n",
    "            pry = -1\n",
    "        else:\n",
    "            prx = 1\n",
    "            pry = -1\n",
    "\n",
    "        #print(\"dist: \", dist)\n",
    "        x1_r = x0 +prx* dist/(np.sqrt(1+np.tan(theta_1)**2))\n",
    "        #print(\"x1_r: \", x1_r)\n",
    "\n",
    "        y1_r = y0 +pry* np.sqrt(dist**2 - (x1_r-x0)**2)\n",
    "        #print(\"y1_r: \", y1_r)\n",
    "        return [x1_r, y1_r]\n",
    "    \n",
    "    \n",
    "def bf_nn_rects(data, point):\n",
    "    min_dist = 100000\n",
    "    min_index = 0\n",
    "    for i in range(data.__len__()):\n",
    "        dist = dist_rsq(point, data[i])\n",
    "        if dist < min_dist:\n",
    "            min_dist = dist\n",
    "            min_index = i\n",
    "    return min_index, min_dist\n"
   ]
  },
  {
   "cell_type": "code",
   "execution_count": 9,
   "metadata": {},
   "outputs": [],
   "source": [
    "# lets find the distance of a point from a square\n",
    "# get distance of a point from a non axis aligned square\n",
    "def distance_from_square(point, square):\n",
    "    x0 = point[0]\n",
    "    y0 = point[1]\n",
    "    px0 = square[0]\n",
    "    py0 = square[1]\n",
    "    pl = square[2]\n",
    "    dist = 0\n",
    "    distx=0\n",
    "    disty=0\n",
    "    # distance for l = 0\n",
    "    dx = px0 - x0\n",
    "    dy = py0 - y0\n",
    "    # distance for l = pl\n",
    "    dxl= dx + pl\n",
    "    dyl= dy + pl\n",
    "    cases = [dx>0,dx<0,dy>0,dy<0,dxl>0,dxl<0,dyl>0,dyl<0]\n",
    "    # check x axis first\n",
    "    if dxl < 0:\n",
    "        distx = abs(dxl)\n",
    "    elif dx > 0:\n",
    "        distx = abs(dx)\n",
    "    else:\n",
    "        distx = 0\n",
    "\n",
    "    # check y axis\n",
    "    if dyl < 0:\n",
    "        disty = abs(dyl)\n",
    "    elif dy > 0:\n",
    "        disty = abs(dy)\n",
    "    else:\n",
    "        disty = 0\n",
    "    \n",
    "    dist = np.sqrt(distx**2 + disty**2)\n",
    "    return dist\n",
    "\n",
    "\n",
    "\n",
    "def rotate_square(square):\n",
    "    pl = square[-2]\n",
    "    theta = np.deg2rad(square[-1])\n",
    "    pl_new = pl * np.cos(theta)\n",
    "    return [square[0], square[1], pl_new, square[-1]]\n",
    "# get deg of 2 points\n",
    "def get_deg(p1, p2):\n",
    "    x1 = p1[0]\n",
    "    y1 = p1[1]\n",
    "    x2 = p2[0]\n",
    "    y2 = p2[1]\n",
    "    if x1 == x2:\n",
    "        if y1 > y2:\n",
    "            return 90\n",
    "        else:\n",
    "            return 270\n",
    "    else:\n",
    "        m = (y2-y1)/(x2-x1)\n",
    "        #print(\"m: \", m)\n",
    "        deg = np.rad2deg(np.arctan(m))\n",
    "        if x1 > x2:\n",
    "            deg += 180\n",
    "        elif y1 > y2:\n",
    "            deg += 360\n",
    "        return deg\n",
    "def bf_nn(data, point):\n",
    "    min_dist = 100000\n",
    "    min_index = 0\n",
    "    for i in range(data.__len__()):\n",
    "        dist = dist_rsq(point, data[i])\n",
    "        if dist < min_dist:\n",
    "            min_dist = dist\n",
    "            min_index = i\n",
    "    return min_index, min_dist\n",
    "def dist_rsq(point, square):\n",
    "    # rotate the point\n",
    "    point = rotate_point([square[0],square[1]],point, np.deg2rad(square[-1]))\n",
    "    #print(\"point: \", point)\n",
    "    dist = distance_from_square(point, square)\n",
    "    return dist\n",
    "\n",
    "def rotate_point(init_point, point, theta):\n",
    "    if np.all(init_point == point):\n",
    "        return point\n",
    "\n",
    "    else:\n",
    "        x0 = init_point[0]\n",
    "        y0 = init_point[1]\n",
    "        x1 = point[0]\n",
    "        y1 = point[1]\n",
    "        theta_0 = np.deg2rad(get_deg(init_point, point))\n",
    "        theta_r = theta\n",
    "        theta_1 = theta_0 - theta_r\n",
    "        #print(\"theta_0: \", theta_0)\n",
    "        #print(\"theta_r: \", theta_r)\n",
    "        #print(\"theta_1: \", theta_1)\n",
    "        dist = np.sqrt((x0-x1)**2 + (y0-y1)**2)\n",
    "        pr = np.rad2deg(theta_1)\n",
    "        if pr>=0 and pr<=90:\n",
    "            prx = 1\n",
    "            pry = 1\n",
    "        elif pr>90 and pr<=180:\n",
    "            prx = -1\n",
    "            pry = 1\n",
    "        elif pr>180 and pr<=270:\n",
    "            prx = -1\n",
    "            pry = -1\n",
    "        else:\n",
    "            prx = 1\n",
    "            pry = -1\n",
    "\n",
    "        #print(\"dist: \", dist)\n",
    "        x1_r = x0 +prx* dist/(np.sqrt(1+np.tan(theta_1)**2))\n",
    "        #print(\"x1_r: \", x1_r)\n",
    "\n",
    "        y1_r = y0 +pry* np.sqrt(dist**2 - (x1_r-x0)**2)\n",
    "        #print(\"y1_r: \", y1_r)\n",
    "        return [x1_r, y1_r]\n",
    "    \n",
    "    \n",
    "def bf_nn(data, point):\n",
    "    min_dist = 100000\n",
    "    min_index = 0\n",
    "    for i in range(data.__len__()):\n",
    "        dist = dist_rsq(point, data[i])\n",
    "        if dist < min_dist:\n",
    "            min_dist = dist\n",
    "            min_index = i\n",
    "    return min_index, min_dist\n",
    "\n",
    "\n",
    "def create_points(num, x0, y0):\n",
    "    points = []\n",
    "    for i in range(num):\n",
    "        x = np.random.randint(x0[0],x0[1])\n",
    "        y = np.random.randint(y0[0],y0[1])\n",
    "        points.append([x, y])\n",
    "    return points\n",
    "\n",
    "def arrange_data(data):\n",
    "    tup = []\n",
    "    for i in range(data.__len__()):\n",
    "        tup.append((data[i][0], data[i][1], data[i][0]+data[i][2], data[i][1]+data[i][2]))\n",
    "    \n",
    "    return tup\n",
    "def NNRTREE(idx, point, data,k):\n",
    "    result = list(idx.nearest((point[0], point[1],point[0], point[1]), k))\n",
    "    sq = [data[result[i]] for i in range(result.__len__())]\n",
    "    dist = [dist_rsq(point, data[result[i]]) for i in range(sq.__len__())]\n",
    "\n",
    "    #sq = []\n",
    "    #dist = []\n",
    "    #for i in range(result.__len__()):\n",
    "    #    sq.append(data[result[i]])\n",
    "    #    dist.append(dist_rsq(point, data[result[i]]))\n",
    "    #dist = distance(point, sq)\n",
    "    return result, dist, sq"
   ]
  },
  {
   "cell_type": "code",
   "execution_count": null,
   "metadata": {},
   "outputs": [],
   "source": [
    "#enter a square, depicted as a vector of x, y, size, rotation\n",
    "#where x,y are the coordinates of its lower left vertice\n",
    "#return its center of mass\n",
    "def get_mass_center(square):\n",
    "\n",
    "\n",
    "    x_center = square[0] + square[2]/2\n",
    "    y_center = square[1] + square[2]/2\n",
    "\n",
    "    return x_center, y_center\n",
    "\n",
    "#given a square's center of mass, edge size and rotation\n",
    "#we retrieve its 4 vertices\n",
    "def get_square_vertices(square, mass_center):\n",
    "\n",
    "    rotation = square[3]\n",
    "    x_center = mass_center[0]\n",
    "    y_center = mass_center[1]\n",
    "    size = square[2]\n",
    "\n",
    "    #calculate the coordinates of the vertices as if the square is not rotated\n",
    "    x1 = x_center - (size/2)\n",
    "    y1 = y_center - (size/2)\n",
    "    x2 = x_center - (size/2)\n",
    "    y2 = y_center + (size/2)\n",
    "    x3 = x_center + (size/2)\n",
    "    y3 = y_center + (size/2)\n",
    "    x4 = x_center + (size/2)\n",
    "    y4 = y_center - (size/2)\n",
    "\n",
    "    vertice1 = [x1,y1]\n",
    "    vertice2 = [x2,y2]\n",
    "    vertice3 = [x3,y3]\n",
    "    vertice4 = [x4,y4]\n",
    "\n",
    "    #then rotate the vertices according to the given rotation\n",
    "    #the reference point of the rotation is the center of mass of the square\n",
    "    vertice1 = rotate_point(vertice1, mass_center, rotation)\n",
    "    vertice2 = rotate_point(vertice2, mass_center, rotation)\n",
    "    vertice3 = rotate_point(vertice3, mass_center, rotation)\n",
    "    vertice4 = rotate_point(vertice4, mass_center, rotation)\n",
    "\n",
    "    print(\"THE ROTATED POINTS ARE\\n\")\n",
    "    print(vertice1)\n",
    "    print(vertice2)\n",
    "    print(vertice3)\n",
    "    print(vertice4)\n",
    "    print(\"\\n\\n\")\n",
    "\n",
    "    return vertice1, vertice2, vertice3, vertice4\n",
    "\n",
    "\n",
    "#rotate a point in response to a reference point\n",
    "def rotate_point(point, ref_point, theta):\n",
    "\n",
    "    theta = np.deg2rad(theta)\n",
    "    sin = math.sin(theta)\n",
    "    cos = math.cos(theta)\n",
    "\n",
    "    x = point[0]\n",
    "    y = point[1]\n",
    "\n",
    "    x_ref = ref_point[0]\n",
    "    y_ref = ref_point[1]\n",
    "\n",
    "    x = x - x_ref\n",
    "    y = y - y_ref\n",
    "\n",
    "    new_x = x * cos - y * sin;\n",
    "    new_y = x * sin + y * cos;\n",
    "\n",
    "    x = new_x + x_ref\n",
    "    y = new_y + y_ref\n",
    "\n",
    "    return (new_x, new_y)"
   ]
  },
  {
   "cell_type": "code",
   "execution_count": null,
   "metadata": {},
   "outputs": [],
   "source": [
    "square = [0.5, 1, 4, 47]\n",
    "mass_center = get_mass_center(square)\n",
    "print(mass_center)\n",
    "v1, v2, v3, v4 = get_square_vertices(square, mass_center)"
   ]
  },
  {
   "cell_type": "code",
   "execution_count": 12,
   "metadata": {},
   "outputs": [
    {
     "data": {
      "text/plain": [
       "array([238.        , 131.        ,   2.        ,  10.38789376])"
      ]
     },
     "execution_count": 12,
     "metadata": {},
     "output_type": "execute_result"
    }
   ],
   "source": [
    "data[0]"
   ]
  },
  {
   "cell_type": "code",
   "execution_count": null,
   "metadata": {},
   "outputs": [],
   "source": [
    "NNRTREE(idx[0], points[0], clusters[0], 3)[0]"
   ]
  },
  {
   "cell_type": "code",
   "execution_count": null,
   "metadata": {},
   "outputs": [],
   "source": [
    "arrange_data(clusters[0])"
   ]
  },
  {
   "cell_type": "code",
   "execution_count": 40,
   "metadata": {},
   "outputs": [
    {
     "name": "stdout",
     "output_type": "stream",
     "text": [
      "[rtree.index.Index(bounds=[0.0, 0.0, 299.0, 293.0], size=179), rtree.index.Index(bounds=[0.0, 0.0, 299.0, 303.0], size=259), rtree.index.Index(bounds=[1.0, 0.0, 300.0, 302.0], size=246), rtree.index.Index(bounds=[0.0, 0.0, 299.0, 293.0], size=69), rtree.index.Index(bounds=[1.0, 0.0, 302.0, 301.0], size=247)]\n"
     ]
    }
   ],
   "source": [
    "# we are gonna create an Rtree with the data as bounding boxes of ids and the data\n",
    "idx = [None for _ in range(clusters.__len__())]\n",
    "for i in range(clusters.__len__()):\n",
    "    idx[i] = index.Index()\n",
    "    data_new = arrange_data(clusters[i])\n",
    "    \n",
    "    for j in range(data_new.__len__()):\n",
    "        # create tuple\n",
    "        tup = (data_new[j][0], data_new[j][1], data_new[j][2], data_new[j][3])\n",
    "        idx[i].insert(j, tup)\n",
    "print(idx)"
   ]
  },
  {
   "cell_type": "code",
   "execution_count": 6,
   "metadata": {},
   "outputs": [
    {
     "name": "stdout",
     "output_type": "stream",
     "text": [
      "rtree.index.Index(bounds=[0.0, 0.0, 302.0, 303.0], size=1000)\n"
     ]
    }
   ],
   "source": [
    "# test index with no clusters\n",
    "idx = index.Index()\n",
    "data_new = arrange_data(data)\n",
    "for i in range(data.__len__()):\n",
    "    tup = (data_new[i][0], data_new[i][1], data_new[i][2], data_new[i][3])\n",
    "    idx.insert(i, tup)\n",
    "\n",
    "print(idx)\n",
    "if idx.__len__ == 1:\n",
    "    idx = [idx]\n",
    "    "
   ]
  },
  {
   "cell_type": "code",
   "execution_count": 8,
   "metadata": {},
   "outputs": [
    {
     "name": "stdout",
     "output_type": "stream",
     "text": [
      "points_tot.shape (10000, 2)\n"
     ]
    },
    {
     "data": {
      "text/plain": [
       "(10000, 4)"
      ]
     },
     "execution_count": 8,
     "metadata": {},
     "output_type": "execute_result"
    }
   ],
   "source": [
    "points_tot = np.load('million_random_query_points.npy')\n",
    "print(\"points_tot.shape\", points_tot.shape)\n",
    "# load bf results or 1k data\n",
    "sq_bf= np.load(\"sq_bf.npy\")\n",
    "sq_bf.shape"
   ]
  },
  {
   "cell_type": "code",
   "execution_count": 13,
   "metadata": {},
   "outputs": [
    {
     "name": "stdout",
     "output_type": "stream",
     "text": [
      "points_tot.shape (10000, 2)\n"
     ]
    },
    {
     "data": {
      "text/plain": [
       "(10000, 4)"
      ]
     },
     "execution_count": 13,
     "metadata": {},
     "output_type": "execute_result"
    }
   ],
   "source": [
    "points_tot = np.load('qp10k.npy')\n",
    "print(\"points_tot.shape\", points_tot.shape)\n",
    "# load bf results or 1k data\n",
    "sq_bf= np.load(\"sq_bf10k.npy\")\n",
    "sq_bf.shape"
   ]
  },
  {
   "cell_type": "code",
   "execution_count": 11,
   "metadata": {},
   "outputs": [],
   "source": [
    "clusters=data"
   ]
  },
  {
   "cell_type": "code",
   "execution_count": 44,
   "metadata": {},
   "outputs": [
    {
     "name": "stdout",
     "output_type": "stream",
     "text": [
      "Accuracy is 94.99 %\n"
     ]
    }
   ],
   "source": [
    "# lets see accuracy\n",
    "num_of_points = 10000\n",
    "points = points_tot[:num_of_points]\n",
    "acc = 0\n",
    "dd = []\n",
    "dt = []\n",
    "\n",
    "for p in range(len(points)):\n",
    "    #val = False\n",
    "    sq = []\n",
    "    for i in range(clusters.__len__()):\n",
    "        cnt = NNRTREE(idx[i], points[p],clusters[i], 1)[0][0]\n",
    "        sq.append(clusters[i][cnt])\n",
    "    # do brute force search\n",
    "    ind_bf = bf_nn_rects(data, points[p])[0]\n",
    "    sq_b = data[ind_bf]\n",
    "    # get accuracy\n",
    "    \n",
    "    #print(\"sq_b: \", sq_b)\n",
    "    #print(\"sq: \", sq)\n",
    "    for j in range(len(sq)):\n",
    "        if np.all(sq[j][0:-1] == sq_b[0:-1]):\n",
    "            acc += 1\n",
    "\n",
    "            #val = True\n",
    "    #if val == False:\n",
    "    #    print(\"=======================================\")\n",
    "    #    print(\"No match found\")\n",
    "    #    print(\"Brute force square is \",sq_bf)\n",
    "    #    print(\"Squares are\",sq)\n",
    "    #print(\"=======================================\")\n",
    "            \n",
    "print(\"Accuracy is\", acc/num_of_points*100, \"%\")\n",
    "    \n"
   ]
  },
  {
   "cell_type": "code",
   "execution_count": 28,
   "metadata": {},
   "outputs": [
    {
     "name": "stdout",
     "output_type": "stream",
     "text": [
      "Accuracy:  8353\n",
      "Accuracy is 83.53 %\n"
     ]
    }
   ],
   "source": [
    "# lets see accuracy\n",
    "num_of_points = 10000\n",
    "points = points_tot[:num_of_points]\n",
    "acc = 0\n",
    "for p in range(len(points)):\n",
    "    #val = False\n",
    "    sq = []\n",
    "    for i in range(1):\n",
    "        cnt = NNRTREE(idx, points[p],clusters, 1)[0][0]\n",
    "        sq.append(clusters[cnt])\n",
    "    # do brute force search\n",
    "    ind_bf = bf_nn_rects(data, points[p])[0]\n",
    "    sq_b = data[ind_bf]\n",
    "    # get accuracy\n",
    "    \n",
    "    #print(\"sq_b: \", sq_b)\n",
    "    #print(\"sq: \", sq)\n",
    "    for j in range(len(sq)):\n",
    "        if np.all(sq[j][0:-1] == sq_b[0:-1]):\n",
    "            acc += 1\n",
    "            #val = True\n",
    "    #if val == False:\n",
    "    #    print(\"=======================================\")\n",
    "    #    print(\"No match found\")\n",
    "    #    print(\"Brute force square is \",sq_bf)\n",
    "    #    print(\"Squares are\",sq)\n",
    "    #print(\"=======================================\")\n",
    "            \n",
    "print(\"Accuracy: \", acc)\n",
    "print(\"Accuracy is\", acc/num_of_points*100, \"%\")\n",
    "    \n"
   ]
  },
  {
   "cell_type": "code",
   "execution_count": null,
   "metadata": {},
   "outputs": [],
   "source": [
    "sq"
   ]
  },
  {
   "cell_type": "code",
   "execution_count": 18,
   "metadata": {},
   "outputs": [
    {
     "data": {
      "text/plain": [
       "True"
      ]
     },
     "execution_count": 18,
     "metadata": {},
     "output_type": "execute_result"
    }
   ],
   "source": [
    "np.all(sq[1][0:-1] == sq_b[0:-1])"
   ]
  },
  {
   "cell_type": "code",
   "execution_count": null,
   "metadata": {},
   "outputs": [],
   "source": [
    "#95.02% accuracy\n",
    "sq_bf[0]"
   ]
  },
  {
   "cell_type": "code",
   "execution_count": null,
   "metadata": {},
   "outputs": [],
   "source": [
    "sq"
   ]
  },
  {
   "cell_type": "code",
   "execution_count": null,
   "metadata": {},
   "outputs": [],
   "source": [
    "data[bf_nn(data, points_tot[0])[0]]"
   ]
  },
  {
   "cell_type": "code",
   "execution_count": null,
   "metadata": {},
   "outputs": [],
   "source": [
    "t1 = time.time()\n",
    "for p in points_tot:\n",
    "    for i in range(clusters.__len__()):\n",
    "        NNRTREE(idx[i], p,clusters[i], 1)\n",
    "t2 = time.time()\n",
    "print(\"Time taken for 1M points is\", t2-t1, \"seconds\")"
   ]
  },
  {
   "cell_type": "code",
   "execution_count": null,
   "metadata": {},
   "outputs": [],
   "source": [
    "264.61/60"
   ]
  },
  {
   "cell_type": "code",
   "execution_count": null,
   "metadata": {},
   "outputs": [],
   "source": [
    "%%timeit\n",
    "#import time\n",
    "# get nearest neighbor\n",
    "#poi = points[:10000]\n",
    "#acc = 0\n",
    "#t1 = time.time()\n",
    "for p in poi:\n",
    "    # find the nearest neighbor\n",
    "    #min_index, min_dist = bf_nn(data, p)\n",
    "    #print(min_index, min_dist)\n",
    "    #print(data[min_index])\n",
    "    #print(p)\n",
    "    #print(dist_rsq(p, data[min_index]))\n",
    "    #print(dist_rsq(p, data[min_index]))\n",
    "    #print(distance(p, data[min_index]))\n",
    "    #print(distance(p, data[min_index]))\n",
    "    #print(\"\")\n",
    "\n",
    "    # find the nearest neighbor with rtree\n",
    "    result, dist, sq = NNRTREE(idx, p, data, 1)\n",
    "    #print(result, dist, sq)\n",
    "    #print(min_index, min_dist)\n",
    "    #if result[0] == min_index:\n",
    "    #    acc += 1\n",
    "#print(\"Accuracy: \", acc/poi.__len__()*100)\n"
   ]
  },
  {
   "cell_type": "code",
   "execution_count": null,
   "metadata": {},
   "outputs": [],
   "source": [
    "\n",
    "import visualization as vis\n",
    "min_ = 0\n",
    "#vis.plot_data(data, 20, [- max_ - max(size0), max_ + max(size0), -max_ - max(size0) , max_ + max(size0)])\n",
    "vis.plot_data(data,40,[0,300,0,300])"
   ]
  },
  {
   "cell_type": "code",
   "execution_count": null,
   "metadata": {},
   "outputs": [],
   "source": [
    "NNRTREE(idx[0], [100,100], clusters[0], 3)"
   ]
  },
  {
   "cell_type": "code",
   "execution_count": null,
   "metadata": {},
   "outputs": [],
   "source": [
    "points "
   ]
  },
  {
   "cell_type": "code",
   "execution_count": null,
   "metadata": {},
   "outputs": [],
   "source": [
    "points.__len__()"
   ]
  },
  {
   "cell_type": "code",
   "execution_count": null,
   "metadata": {},
   "outputs": [],
   "source": [
    "# create a set of points\n",
    "num = 10000\n",
    "points = create_points(num, [0,300], [0,300])\n",
    "#points =[[100,100]]\n",
    " "
   ]
  },
  {
   "cell_type": "code",
   "execution_count": null,
   "metadata": {},
   "outputs": [],
   "source": [
    "# take 1000 random points from points\n",
    "def select_batch(points, num):\n",
    "    batch = []\n",
    "    for i in range(num):\n",
    "        batch.append(points[np.random.randint(0, points.__len__())])\n",
    "    return batch"
   ]
  },
  {
   "cell_type": "code",
   "execution_count": null,
   "metadata": {},
   "outputs": [],
   "source": [
    "# load random_query_points\n",
    "points = np.load('million_random_query_points.npy')\n",
    "# create a batch with 1000 points\n",
    "#points = select_batch(points, 1000)"
   ]
  },
  {
   "cell_type": "code",
   "execution_count": 60,
   "metadata": {},
   "outputs": [
    {
     "name": "stderr",
     "output_type": "stream",
     "text": [
      "C:\\Users\\wolfm\\AppData\\Local\\Temp\\ipykernel_19800\\2714660182.py:45: RuntimeWarning: invalid value encountered in double_scalars\n",
      "  dd.append(abs((bf_dis - nn_dis_t[j])/bf_dis))\n",
      "C:\\Users\\wolfm\\AppData\\Local\\Temp\\ipykernel_19800\\2714660182.py:45: RuntimeWarning: divide by zero encountered in double_scalars\n",
      "  dd.append(abs((bf_dis - nn_dis_t[j])/bf_dis))\n"
     ]
    },
    {
     "name": "stdout",
     "output_type": "stream",
     "text": [
      "Accuracy is 94.6%\n"
     ]
    }
   ],
   "source": [
    "# load random_query_points\n",
    "#points = np.load('million_random_query_points.npy')[0:1000]\n",
    "# create a batch with 1000 points\n",
    "\n",
    "points = points_tot[0:1000]\n",
    "idbf = np.zeros((points.__len__(),2))\n",
    "idnn = []\n",
    "acc = 0\n",
    "knn = 1\n",
    "dd = []\n",
    "dt = []\n",
    "dd_r = []\n",
    "dt_r = []\n",
    "theta_r = []\n",
    "theta = []\n",
    "for i in range(points.__len__()):\n",
    "    #print(\"=======================================\")\n",
    "    bf_id, bf_dis = bf_nn_rects(data, points[i])\n",
    "    bf_sq = data[bf_id]\n",
    "    #print(bf_sq)\n",
    "    nn_dis_t = []\n",
    "    nn_sq_t = []\n",
    "    for j in range(clusters.__len__()):\n",
    "        nn_id , nn_dis, nn_sq = 0,0,0\n",
    "        #print(NNRTREE(idx[j], points[i], clusters[j], k))\n",
    "        nn_id, nn_dis, nn_sq = NNRTREE(idx[j], points[i], clusters[j], knn)\n",
    "        #print(nn_sq)\n",
    "        for k in range(nn_dis.__len__()):\n",
    "            nn_dis_t.append(nn_dis[k])\n",
    "            nn_sq_t.append(nn_sq[k])\n",
    "    stop = 0\n",
    "    # search if the bf is in the nn\n",
    "    la = 0\n",
    "    \n",
    "    for j in range(nn_sq_t.__len__()):\n",
    "        if stop == 1:\n",
    "            continue\n",
    "        la +=1\n",
    "        a = bf_sq[0:-1]\n",
    "        b = nn_sq_t[j][0:-1]\n",
    "        \n",
    "        \n",
    "        #print(a,b)\n",
    "        if np.all(a==b):\n",
    "            dd.append(abs((bf_dis - nn_dis_t[j])/bf_dis))\n",
    "            dt.append(abs((bf_sq[-1] - nn_sq_t[j][-1]))*np.sqrt(b[-1]**2 + b[-2]**2))\n",
    "            theta.append(bf_sq[-1])\n",
    "            #print(\"la: \", la)\n",
    "            #print(\"la per cluster: \", la%3)\n",
    "            acc += 1\n",
    "            stop = 1\n",
    "    if stop == 0:\n",
    "        min_dist_r = np.min(nn_dis_t)\n",
    "        dd_r.append(abs(min_dist_r - bf_dis))\n",
    "        theta_r.append(nn_sq_t[np.where(nn_dis_t == min_dist_r)[0][0]][-1])\n",
    "        dt_r.append(abs(theta_r[-1] - bf_sq[-1])*bf_sq[2])\n",
    "        \n",
    "    \n",
    "    #print(\"=======================================\")\n",
    "            \n",
    "       \n",
    "            \n",
    "            \n",
    "\n",
    "# print percentage of acc\n",
    "print(\"Accuracy is {}%\".format(acc/points.__len__()*100))\n"
   ]
  },
  {
   "cell_type": "markdown",
   "metadata": {},
   "source": [
    "# Results"
   ]
  },
  {
   "cell_type": "code",
   "execution_count": 65,
   "metadata": {},
   "outputs": [],
   "source": [
    "# remove infs and nans from dd and dt\n",
    "dd = [x for x in dd if not np.isnan(x)]\n",
    "dd = [x for x in dd if not np.isinf(x)]\n",
    "dt = [x for x in dt if not np.isnan(x)]\n",
    "dt = [x for x in dt if not np.isinf(x)]"
   ]
  },
  {
   "cell_type": "code",
   "execution_count": 63,
   "metadata": {},
   "outputs": [
    {
     "data": {
      "image/png": "[encoded data removed]",
      "text/plain": [
       "<Figure size 432x288 with 1 Axes>"
      ]
     },
     "metadata": {},
     "output_type": "display_data"
    }
   ],
   "source": [
    "\n",
    "# plot dt as x and dd as y as a line graph with limits on the axes\n",
    "import matplotlib.pyplot as plt\n",
    "plt.plot(dt, dd, 'ro')\n",
    "plt.axis([0, 0.5, 0, 0.5])\n",
    "plt.show()"
   ]
  },
  {
   "cell_type": "code",
   "execution_count": 68,
   "metadata": {},
   "outputs": [
    {
     "data": {
      "image/png": "[encoded data removed]",
      "text/plain": [
       "<Figure size 432x288 with 1 Axes>"
      ]
     },
     "metadata": {},
     "output_type": "display_data"
    },
    {
     "name": "stdout",
     "output_type": "stream",
     "text": [
      "y = -0.02807 * np.sin(2.35947 - x) + 0.00015 * x**2 + 0.01553\n"
     ]
    },
    {
     "data": {
      "image/png": "[encoded data removed]",
      "text/plain": [
       "<Figure size 432x288 with 1 Axes>"
      ]
     },
     "metadata": {},
     "output_type": "display_data"
    }
   ],
   "source": [
    "# sort the dt and dd by dt\n",
    "dt, dd = zip(*sorted(zip(dt, dd)))\n",
    "plt.plot(dt, dd)\n",
    "plt.axis([0,40,0,5])\n",
    "# show y name and x name\n",
    "plt.ylabel('Delta Distance')\n",
    "plt.xlabel('Delta Theta * Size')\n",
    "\n",
    "plt.show()\n",
    "# plot the integral of dd as a function of dt\n",
    "# fit data to a line\n",
    "from scipy.optimize import curve_fit\n",
    "import numpy as np\n",
    "import matplotlib.pyplot as plt\n",
    "\n",
    "    \n",
    "\n",
    "# define the true objective function\n",
    "def objective(x, a, b, c, d):\n",
    "\treturn a * np.sin(b - x) + c * x**2 + d\n",
    "\n",
    "# generate input data\n",
    "xdata = np.array(dt)\n",
    "ydata = np.array(dd)\n",
    "# curve fit\n",
    "popt, _ = curve_fit(objective, xdata, ydata)\n",
    "# summarize the parameter values\n",
    "a, b, c, d = popt\n",
    "print('y = %.5f * np.sin(%.5f - x) + %.5f * x**2 + %.5f' % (a, b, c, d))\n",
    "# plot input vs output\n",
    "# put limits in scatter\n",
    "plt.scatter(xdata, ydata)\n",
    "# define a sequence of inputs between the smallest and largest known inputs\n",
    "x_line = np.arange(min(xdata), max(xdata), 1)\n",
    "# calculate the output for the range\n",
    "y_line = objective(x_line, a, b, c, d)\n",
    "# create a line plot for the mapping function\n",
    "plt.plot(x_line, y_line, '--', color='red')\n",
    "# put names on the axes\n",
    "plt.ylabel('Delta Distance')\n",
    "plt.xlabel('Delta Theta * Size')\n",
    "plt.show()\n",
    "\n",
    "\n"
   ]
  },
  {
   "cell_type": "code",
   "execution_count": 69,
   "metadata": {},
   "outputs": [
    {
     "data": {
      "image/png": "[encoded data removed]",
      "text/plain": [
       "<Figure size 432x288 with 1 Axes>"
      ]
     },
     "metadata": {},
     "output_type": "display_data"
    }
   ],
   "source": [
    "plt.plot(dt, dd)\n",
    "dt_r, dd_r = zip(*sorted(zip(dt_r, dd_r)))\n",
    "#plt.plot(dt_r,dd_r,color = 'red')\n",
    "plt.scatter(dt_r,dd_r,color = 'red')\n",
    "plt.axis([0,35,0,3])\n",
    "# show y name and x name\n",
    "plt.ylabel('Delta Distance')\n",
    "plt.xlabel('Delta Theta * Size')\n",
    "\n",
    "plt.legend(['Correct Predictions','False Predictions'])\n",
    "plt.show()"
   ]
  },
  {
   "cell_type": "code",
   "execution_count": 58,
   "metadata": {},
   "outputs": [
    {
     "data": {
      "image/png": "[encoded data removed]",
      "text/plain": [
       "<Figure size 432x288 with 1 Axes>"
      ]
     },
     "metadata": {},
     "output_type": "display_data"
    }
   ],
   "source": [
    "# plot dd as a function of dt \n",
    "plt.scatter(dt, dd)\n",
    "# plot wrongs as scatter with different color\n",
    "plt.scatter(dt_r, dd_r, color='red')\n",
    "plt.show()"
   ]
  },
  {
   "cell_type": "code",
   "execution_count": 70,
   "metadata": {},
   "outputs": [
    {
     "data": {
      "image/png": "[encoded data removed]",
      "text/plain": [
       "<Figure size 432x288 with 1 Axes>"
      ]
     },
     "metadata": {},
     "output_type": "display_data"
    },
    {
     "data": {
      "image/png": "[encoded data removed]",
      "text/plain": [
       "<Figure size 432x288 with 1 Axes>"
      ]
     },
     "metadata": {},
     "output_type": "display_data"
    }
   ],
   "source": [
    "# plot dd as a function of theta\n",
    "# and dt as a function of theta\n",
    "# first sort the data by theta\n",
    "theta_, dd_ = zip(*sorted(zip(theta, dd)))\n",
    "theta_, dt_ = zip(*sorted(zip(theta, dt)))\n",
    "# plot wrongs too\n",
    "\n",
    "plt.plot(theta_, dd_)\n",
    "# set limits on the axes \n",
    "plt.axis([0, 90, 0, 3])\n",
    "# set x and y names\n",
    "plt.ylabel('Delta Distance')\n",
    "plt.xlabel('Theta')\n",
    "plt.show()\n",
    "\n",
    "plt.plot(theta_, dt_)\n",
    "plt.ylabel('Delta Theta * Size')\n",
    "plt.xlabel('Theta')\n",
    "plt.show()\n",
    "\n"
   ]
  }
 ],
 "metadata": {
  "kernelspec": {
   "display_name": "Python 3",
   "language": "python",
   "name": "python3"
  },
  "language_info": {
   "codemirror_mode": {
    "name": "ipython",
    "version": 3
   },
   "file_extension": ".py",
   "mimetype": "text/x-python",
   "name": "python",
   "nbconvert_exporter": "python",
   "pygments_lexer": "ipython3",
   "version": "3.8.10"
  },
  "orig_nbformat": 4,
  "vscode": {
   "interpreter": {
    "hash": "31f2aee4e71d21fbe5cf8b01ff0e069b9275f58929596ceb00d14d90e3e16cd6"
   }
  }
 },
 "nbformat": 4,
 "nbformat_minor": 2
}
