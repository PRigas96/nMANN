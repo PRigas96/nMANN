{
 "cells": [
  {
   "cell_type": "code",
   "execution_count": null,
   "metadata": {},
   "outputs": [],
   "source": []
  }
 ],
 "metadata": {
  "kernelspec": {
   "display_name": "Python 3.10.8 64-bit",
   "language": "python",
   "name": "python3"
  },
  "language_info": {
   "name": "python",
   "version": "3.10.8"
  },
  "orig_nbformat": 4,
  "vscode": {
   "interpreter": {
    "hash": "fdd3b9c0dd1375b0cc154880cc37d79c0440eaafec1b5af1fb9573cf2afd776b"
   }
  }
 },
 "nbformat": 4,
 "nbformat_minor": 2
}
